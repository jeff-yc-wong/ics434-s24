{
 "cells": [
  {
   "cell_type": "markdown",
   "metadata": {
    "slideshow": {
     "slide_type": "slide"
    }
   },
   "source": [
    "# ICS 434: DATA SCIENCE FUNDAMENTALS\n",
    "\n",
    "## Introduction to Parameter Estimation\n",
    "## Poisson Distribution\n",
    "---"
   ]
  },
  {
   "cell_type": "markdown",
   "metadata": {
    "slideshow": {
     "slide_type": "slide"
    }
   },
   "source": [
    "## Announcements\n",
    "\n",
    "* Weekly engagement #5\n",
    "  * Complete the assignment for __Week 7__ under \"Weekly Engagement\" in Laulima\n",
    "  * Due on Sunday, __February 26, 11:55 PM__\n",
    "  * Submit the Jupyter notebook file (.ipynb) showing your answers and outputs"
   ]
  },
  {
   "cell_type": "markdown",
   "metadata": {
    "slideshow": {
     "slide_type": "slide"
    }
   },
   "source": [
    "## Slide Credits\n",
    "\n",
    "Most of these slides were taken from Mahdi Belcaid."
   ]
  },
  {
   "cell_type": "code",
   "execution_count": 1,
   "metadata": {
    "slideshow": {
     "slide_type": "skip"
    }
   },
   "outputs": [],
   "source": [
    "import pandas as pd\n",
    "import numpy as np\n",
    "import matplotlib.pyplot as plt\n",
    "from scipy.stats import poisson\n",
    "\n",
    "%matplotlib inline"
   ]
  },
  {
   "cell_type": "markdown",
   "metadata": {
    "slideshow": {
     "slide_type": "skip"
    }
   },
   "source": [
    "### Statistical Modeling and Generative Modeling\n",
    " \n",
    "\n",
    "* Generative models are expressive representations of the data generating process\n",
    "  * A generative model describes how likely a given example is to be generated\n",
    "\n",
    "  * Having access to a distribution's parameters is very useful to answer the different types of questions we have been interested in so far:\n",
    "\n",
    "    1. Probability, and expectation and variance of distributions\n",
    "    2. Hypothesis testing\n",
    "\n",
    "* Most often we don't have access to parameters that generated the data\n",
    "  \n",
    "* Therefore, we need to estimate those parameters from a small sample\n"
   ]
  },
  {
   "cell_type": "markdown",
   "metadata": {
    "slideshow": {
     "slide_type": "slide"
    }
   },
   "source": [
    "### Generative Modeling\n",
    " \n",
    "\n",
    "* Generative models are expressive representations of the data generating process\n",
    "  * A generative model describes how likely a given example is to be generated\n",
    "\n",
    "  * Having access to a distribution's parameters is very useful to answer the different types of questions we have been interested in so far:\n",
    "\n",
    "    1. Probability, and expectation and variance of distributions\n",
    "    2. Hypothesis testing\n",
    "\n",
    "* Most often we don't have access to parameters that generated the data\n",
    "  \n",
    "* Therefore, we need to estimate those parameters from a small sample\n"
   ]
  },
  {
   "cell_type": "markdown",
   "metadata": {
    "slideshow": {
     "slide_type": "slide"
    }
   },
   "source": [
    "### Statistical Inference \n",
    "\n",
    "* Contrary to generative models, to estimate a distribution's parameters we work from the data upwards\n",
    "\n",
    "* This upward–reasoning step is called _statistical inference_\n",
    "\n",
    "  <img src=\"images/proba_stats_2.png\" alt=\"drawing\" width=\"500px\"/>"
   ]
  },
  {
   "cell_type": "markdown",
   "metadata": {
    "slideshow": {
     "slide_type": "slide"
    }
   },
   "source": [
    "### Statistical Inference -- Cont'd\n",
    "\n",
    "* Working with a small sample from a large population\n",
    "\n",
    "* You are using the sample (a measure on the sample) as a proxy for some parameter in the population\n",
    "\n",
    "  * What is a population, and why do we need to measure a sample from the population?\n",
    "    * It is a proxy for the \"ground truth\"\n",
    "    * Allows us to sample data from the underlying probability distribution as if we're sampling from the actual population\n",
    "    * Allows us to compute probabilities of events, expectation, etc. \n"
   ]
  },
  {
   "cell_type": "markdown",
   "metadata": {
    "slideshow": {
     "slide_type": "slide"
    }
   },
   "source": [
    "### Parameter Estimation\n",
    "\n",
    "*  Given a dataset, we are most often interested in estimating the parameter(s) of the distribution that generated it\n",
    "\n",
    "* Ex. We randomly count the number of observed moving traffic citations within a 5 miles radius of UH Manoa during 90 days, spread across 12 months\n",
    "  * We want to even out sampling to avoid any bias\n",
    "\n",
    "* The number of citations should follow some probability distribution specific to count data\n",
    "  * This is a Poisson distribution\n",
    "\n",
    "* What is the parameter of that distribution?\n",
    "\n",
    "    * We will answer this question using three different approaches:\n",
    "      1. Bootstrap Confidence Intervals\n",
    "      2. Maximum Likelihood \n",
    "      3. Bayesian Framework\n",
    " "
   ]
  },
  {
   "cell_type": "code",
   "execution_count": 2,
   "metadata": {
    "slideshow": {
     "slide_type": "slide"
    }
   },
   "outputs": [
    {
     "data": {
      "text/html": [
       "<div>\n",
       "<style scoped>\n",
       "    .dataframe tbody tr th:only-of-type {\n",
       "        vertical-align: middle;\n",
       "    }\n",
       "\n",
       "    .dataframe tbody tr th {\n",
       "        vertical-align: top;\n",
       "    }\n",
       "\n",
       "    .dataframe thead th {\n",
       "        text-align: right;\n",
       "    }\n",
       "</style>\n",
       "<table border=\"1\" class=\"dataframe\">\n",
       "  <thead>\n",
       "    <tr style=\"text-align: right;\">\n",
       "      <th></th>\n",
       "      <th>Counts</th>\n",
       "    </tr>\n",
       "    <tr>\n",
       "      <th>Day</th>\n",
       "      <th></th>\n",
       "    </tr>\n",
       "  </thead>\n",
       "  <tbody>\n",
       "    <tr>\n",
       "      <th>0</th>\n",
       "      <td>27</td>\n",
       "    </tr>\n",
       "    <tr>\n",
       "      <th>1</th>\n",
       "      <td>18</td>\n",
       "    </tr>\n",
       "    <tr>\n",
       "      <th>2</th>\n",
       "      <td>30</td>\n",
       "    </tr>\n",
       "    <tr>\n",
       "      <th>3</th>\n",
       "      <td>13</td>\n",
       "    </tr>\n",
       "    <tr>\n",
       "      <th>4</th>\n",
       "      <td>20</td>\n",
       "    </tr>\n",
       "  </tbody>\n",
       "</table>\n",
       "</div>"
      ],
      "text/plain": [
       "     Counts\n",
       "Day        \n",
       "0        27\n",
       "1        18\n",
       "2        30\n",
       "3        13\n",
       "4        20"
      ]
     },
     "execution_count": 2,
     "metadata": {},
     "output_type": "execute_result"
    }
   ],
   "source": [
    "citations_data = pd.read_csv(\"data/citations_counts.tsv\", index_col=\"Day\")\n",
    "citations_data.head()"
   ]
  },
  {
   "cell_type": "code",
   "execution_count": 3,
   "metadata": {
    "slideshow": {
     "slide_type": "slide"
    }
   },
   "outputs": [
    {
     "data": {
      "image/png": "[encoded data removed]",
      "text/plain": [
       "<Figure size 1000x400 with 1 Axes>"
      ]
     },
     "metadata": {},
     "output_type": "display_data"
    }
   ],
   "source": [
    "plt.figure(figsize=(10, 4))\n",
    "\n",
    "_ = plt.hist(citations_data[\"Counts\"], bins=8, density=True, edgecolor='black', linewidth=1.2, alpha=0.5)"
   ]
  },
  {
   "cell_type": "markdown",
   "metadata": {
    "slideshow": {
     "slide_type": "slide"
    }
   },
   "source": [
    "### The Poisson Distribution\n",
    "\n",
    "* Used in experiments that model the numbers of events occuring in a fixed period of time or a fixed area of space\n",
    "* Ex.: \n",
    "    - Number of daily accidents on the H1\n",
    "    - Number of people who enter a grocery store every hour\n",
    "    - Number of childbirths in Hawaii every day\n",
    "    - Number of chocolate chips in a cookie\n",
    "    - etc.\n"
   ]
  },
  {
   "cell_type": "markdown",
   "metadata": {
    "slideshow": {
     "slide_type": "slide"
    }
   },
   "source": [
    "### Properties of the Poisson Distribution\n",
    "\n",
    "* Poisson distribution has only one parameter that determines its shape and location\n",
    "  * The parameter is referrd to as $\\lambda$\n",
    "\n",
    "* A random variable $X$ has a Poisson distribution, written $X \\sim Poisson(\\lambda)$, if:\n",
    "\n",
    "  * $X$ is the number of events occurence in a given time period or space area\n",
    "    * Countably infinite non-negative values [0, 1, ... ]\n",
    "    \n",
    "  * The events are independent (the occurrence of events does not increase the likelihood of other events occurring)\n",
    "\n",
    "  * The mean and the variance of a Poisson distribution are represented using the same parameter $\\lambda$\n",
    "  \n",
    "* The $pmf$ of a Poisson distribution is:\n",
    "\n",
    "$$\n",
    "P(X=k) = \\frac{e^{-\\lambda} \\lambda^k}{k!}\n",
    "$$"
   ]
  },
  {
   "cell_type": "markdown",
   "metadata": {
    "slideshow": {
     "slide_type": "slide"
    }
   },
   "source": [
    "### Example\n",
    "\n",
    "- Assume that the clientele visiting a store per hour follows a Poisson distribution with $\\lambda = 10$. Then the probability distribution of the random variable $X$ representing the number of clients in the store is:"
   ]
  },
  {
   "cell_type": "code",
   "execution_count": 4,
   "metadata": {
    "slideshow": {
     "slide_type": "-"
    }
   },
   "outputs": [
    {
     "data": {
      "image/png": "[encoded data removed]",
      "text/plain": [
       "<Figure size 800x300 with 1 Axes>"
      ]
     },
     "metadata": {},
     "output_type": "display_data"
    }
   ],
   "source": [
    "from scipy.stats import poisson\n",
    "\n",
    "x = np.arange(0, 30, 1)\n",
    "pmfs_x = poisson.pmf(x, 10)\n",
    "\n",
    "plt.figure(figsize=(8, 3))\n",
    "plt.plot(x, pmfs_x)\n",
    "plt.xlabel(\"$X$\")\n",
    "_ = plt.ylabel(\"$P(X)$\")"
   ]
  },
  {
   "cell_type": "markdown",
   "metadata": {
    "slideshow": {
     "slide_type": "skip"
    }
   },
   "source": [
    "### Example -- Cont'd\n",
    "\n",
    "- If the clientele visiting a store per hour follows a Poisson distribution with $\\lambda = 10$. \n",
    "\n",
    "- The probability that $x$, for $x \\in  \\{0, 5, 10, 15, 20, 30, 50\\}$, clients visit the store tomorrow between 3 PM and 4 PM is:\n",
    "\n",
    "```python\n",
    "for x in [0, 5, 10, 15, 20, 30, 50]:\n",
    "    print( \"The pmf of x = %d is %1.20f \" % (x, poisson.pmf(x, 10)))\n",
    "```"
   ]
  },
  {
   "cell_type": "markdown",
   "metadata": {
    "slideshow": {
     "slide_type": "slide"
    }
   },
   "source": [
    "### Example -- Cont'd\n",
    "\n",
    "- The probability that $x$, for $x \\in  \\{0, 5, 10, 15, 20, 30, 50\\}$, clients visit the store tomorrow between 3 PM and 4 PM is:"
   ]
  },
  {
   "cell_type": "code",
   "execution_count": 5,
   "metadata": {
    "slideshow": {
     "slide_type": "-"
    }
   },
   "outputs": [
    {
     "name": "stdout",
     "output_type": "stream",
     "text": [
      "The pmf of x =  0 is 0.00004539992976248485\n",
      "The pmf of x =  5 is 0.03783327480207079180\n",
      "The pmf of x = 10 is 0.12511003572113371662\n",
      "The pmf of x = 15 is 0.03471806963068424512\n",
      "The pmf of x = 20 is 0.00186608131399877415\n",
      "The pmf of x = 30 is 0.00000017115717355368\n",
      "The pmf of x = 50 is 0.00000000000000000015\n"
     ]
    }
   ],
   "source": [
    "for x in [0, 5, 10, 15, 20, 30, 50]:\n",
    "    print( \"The pmf of x = %2d is %1.20f\" % (x, poisson.pmf(x, 10)))"
   ]
  },
  {
   "cell_type": "markdown",
   "metadata": {
    "slideshow": {
     "slide_type": "slide"
    }
   },
   "source": [
    "### Link Between the Mean and the Variance\n",
    "\n",
    "- As mentioned, the mean and variance are both modeled with the same parameter $\\lambda$\n",
    "  - What is the significance of this statement?"
   ]
  },
  {
   "cell_type": "code",
   "execution_count": 6,
   "metadata": {
    "slideshow": {
     "slide_type": "slide"
    }
   },
   "outputs": [
    {
     "data": {
      "image/png": "[encoded data removed]",
      "text/plain": [
       "<Figure size 1200x600 with 1 Axes>"
      ]
     },
     "metadata": {},
     "output_type": "display_data"
    }
   ],
   "source": [
    "plt.figure(figsize=(12, 6))\n",
    "\n",
    "x = np.arange(0, 40, 1)\n",
    "pmfs_x = poisson.pmf(x, 10)\n",
    "plt.plot(x, pmfs_x)\n",
    "\n",
    "x = np.arange(160, 240, 1)\n",
    "pmfs_x = poisson.pmf(x, 200)\n",
    "plt.plot(x, pmfs_x)\n",
    "\n",
    "x = np.arange(350, 450, 1)\n",
    "pmfs_x = poisson.pmf(x, 400)\n",
    "_ = plt.plot(x, pmfs_x)"
   ]
  },
  {
   "cell_type": "markdown",
   "metadata": {
    "slideshow": {
     "slide_type": "skip"
    }
   },
   "source": [
    "### Notes About the Poisson Distribution\n",
    "* For values of $\\lambda > 20$, the Poisson distribution can be approximated as Gaussian with $\\mu=\\lambda$ and $\\sigma = \\sqrt{\\lambda}$\n",
    "  * This can be shown mathematically and this simplification sometimes makes the math easy \n",
    "  \n",
    "* Not all count data is Poisson\n",
    "  * Data where the mean is not equal to the variance is not Poisson\n",
    "  * Occurs in overdispersed data when external factors, such as noise, contribute to the observed variance\n",
    "    * Negative Binomial is often used with such data\n",
    "      * More on this distribution later"
   ]
  },
  {
   "cell_type": "markdown",
   "metadata": {
    "slideshow": {
     "slide_type": "slide"
    }
   },
   "source": [
    "### Notes About the Poisson Distribution\n",
    "* For values of $\\lambda > 20$, the Poisson distribution can be approximated as Gaussian with $\\mu=\\lambda$ and $\\sigma = \\sqrt{\\lambda}$\n",
    "  * This can be shown mathematically and this simplification sometimes makes the math easy \n",
    "  \n",
    "* Not all count data is Poisson\n",
    "  * Data where the mean is not equal to the variance is not Poisson\n",
    "  * Occurs in overdispersed data when external factors, such as noise, contribute to the observed variance"
   ]
  }
 ],
 "metadata": {
  "celltoolbar": "Slideshow",
  "colab": {
   "collapsed_sections": [],
   "name": "PP_1_Introduction.ipynb",
   "provenance": [],
   "version": "0.3.2"
  },
  "hide_input": false,
  "kernelspec": {
   "display_name": "Python 3 (ipykernel)",
   "language": "python",
   "name": "python3"
  },
  "language_info": {
   "codemirror_mode": {
    "name": "ipython",
    "version": 3
   },
   "file_extension": ".py",
   "mimetype": "text/x-python",
   "name": "python",
   "nbconvert_exporter": "python",
   "pygments_lexer": "ipython3",
   "version": "3.8.15"
  }
 },
 "nbformat": 4,
 "nbformat_minor": 1
}
