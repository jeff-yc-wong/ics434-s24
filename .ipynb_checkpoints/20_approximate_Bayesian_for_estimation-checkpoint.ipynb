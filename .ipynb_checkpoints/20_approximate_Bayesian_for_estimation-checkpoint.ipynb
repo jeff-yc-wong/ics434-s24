{
 "cells": [
  {
   "cell_type": "markdown",
   "metadata": {
    "slideshow": {
     "slide_type": "slide"
    }
   },
   "source": [
    "# ICS 434: DATA SCIENCE FUNDAMENTALS\n",
    "\n",
    "## Bayesian Parameter Estimation\n",
    "---"
   ]
  },
  {
   "cell_type": "markdown",
   "metadata": {
    "slideshow": {
     "slide_type": "slide"
    }
   },
   "source": [
    "## Announcements\n",
    "\n",
    "* Homework assignment #2\n",
    "   * Due: **Wednesday, March 8, 11:59 PM**\n",
    "   * Refer to the `Homework submission guidelines` announcement in Laulima for preparing and submitting your homework.\n",
    "     * Note the update on `data` folder and the use of `relative path`\n",
    "   \n",
    "\n",
    "* Assignment #1 grades are posted.\n"
   ]
  },
  {
   "cell_type": "markdown",
   "metadata": {
    "slideshow": {
     "slide_type": "slide"
    }
   },
   "source": [
    "## Slide Credits\n",
    "\n",
    "Most of these slides were taken from Mahdi Belcaid."
   ]
  },
  {
   "cell_type": "code",
   "execution_count": 1,
   "metadata": {
    "slideshow": {
     "slide_type": "skip"
    }
   },
   "outputs": [],
   "source": [
    "#!pip install ipywidgets"
   ]
  },
  {
   "cell_type": "code",
   "execution_count": 2,
   "metadata": {
    "slideshow": {
     "slide_type": "skip"
    }
   },
   "outputs": [],
   "source": [
    "import pandas as pd\n",
    "import matplotlib.pyplot as plt\n",
    "import numpy as np"
   ]
  },
  {
   "cell_type": "markdown",
   "metadata": {
    "slideshow": {
     "slide_type": "slide"
    }
   },
   "source": [
    "### Recall: A/B Testing Example\n",
    "\n",
    "* In an A/B test, we are interested in comparing two versions of a webpage\n",
    "  * We would like to determine which one performs better at a task `X`\n",
    "    \n",
    "* Ex.: Is Version A (new) or Version B (old) better at signing up new users?\n",
    "\n",
    "<center><img src=\"images/ab.jpg\" alt=\"drawing\" style=\"width:600px\"></center>\n"
   ]
  },
  {
   "cell_type": "markdown",
   "metadata": {
    "slideshow": {
     "slide_type": "slide"
    }
   },
   "source": [
    "### Bayesian Parameter Estimation\n",
    "\n",
    "* Consider the generative model for the A/B testing experiment in the previous slide \n",
    "* For one person and one webpage prototype, the generative process can be described with the following illustration\n",
    "  * Suppose that a user is equally likely to sign up or forgo signing up ($p=0.5$)\n",
    "<center><img src=\"images/ab_user.jpg\"></center>\n",
    "* Say we are selecting 8 individuals to try Version A, what does the generative process look like?"
   ]
  },
  {
   "cell_type": "code",
   "execution_count": 3,
   "metadata": {
    "cellView": "form",
    "colab": {
     "base_uri": "https://localhost:8080/",
     "height": 445
    },
    "colab_type": "code",
    "id": "bAL20h-or_eb",
    "outputId": "4ebf6c3d-6e16-42ae-a235-5b8093bea2b3",
    "slideshow": {
     "slide_type": "skip"
    }
   },
   "outputs": [
    {
     "data": {
      "application/vnd.jupyter.widget-view+json": {
       "model_id": "bec4e39c48ec4b38b8d858ac5685f97a",
       "version_major": 2,
       "version_minor": 0
      },
      "text/plain": [
       "Button(description='Run the experiment!', style=ButtonStyle())"
      ]
     },
     "metadata": {},
     "output_type": "display_data"
    },
    {
     "data": {
      "application/vnd.jupyter.widget-view+json": {
       "model_id": "42f6ac1f5d39439cac56f7ccbeeb639e",
       "version_major": 2,
       "version_minor": 0
      },
      "text/plain": [
       "Output()"
      ]
     },
     "metadata": {},
     "output_type": "display_data"
    }
   ],
   "source": [
    "# @hidden_cell\n",
    "# @title\n",
    "# this will be hidden\n",
    "\n",
    "from IPython.display import HTML, display\n",
    "from ipywidgets import widgets, Output\n",
    "import matplotlib.pyplot as plt\n",
    "import numpy as np\n",
    "import scipy.stats as st\n",
    "\n",
    "p=0.5\n",
    "\n",
    "button = widgets.Button(description = \"Run the experiment!\")\n",
    "display(button)\n",
    "out = Output()\n",
    "display(out)\n",
    "\n",
    "green_link = 'images/green.jpg'\n",
    "red_link = 'images/red.jpg'\n",
    "black_link = 'images/black.jpg'\n",
    "arrow_link = 'images/arrow.jpg'\n",
    "green_guy = \"<td><img src=\" + green_link + \"></td>\"\n",
    "red_guy = \"<td><img src=\" + red_link + \"></td>\"\n",
    "black_guy = \"<td><img src=\" + black_link + \"></td>\"\n",
    "arrow = \"<td><img src=\" + arrow_link + \"></td>\"\n",
    "\n",
    "\n",
    "def on_button_clicked(b):\n",
    "    number_guys = 0\n",
    "    test = st.bernoulli.rvs(p, size=1)\n",
    "    guys = \"\"\n",
    "    for item in test:\n",
    "      if item == 1:\n",
    "        guys = guys + green_guy\n",
    "      else:\n",
    "        guys = guys + red_guy\n",
    "      number_guys += item\n",
    "    \n",
    "    out.clear_output()\n",
    "    with out:\n",
    "        display(HTML(\"<table><tr><td>\" + black_guy + \"</td><td>\" + arrow \n",
    "                     + \"</td><td>\" + guys + \"</td></tr></table>\"))\n",
    "\n",
    "\n",
    "button.on_click(on_button_clicked)"
   ]
  },
  {
   "cell_type": "code",
   "execution_count": 4,
   "metadata": {
    "cellView": "form",
    "colab": {
     "base_uri": "https://localhost:8080/",
     "height": 520
    },
    "colab_type": "code",
    "id": "ruuj6PmNTmvZ",
    "outputId": "3659593c-3f1a-45f8-dedf-62bf6f9a4bde",
    "slideshow": {
     "slide_type": "skip"
    }
   },
   "outputs": [
    {
     "data": {
      "application/vnd.jupyter.widget-view+json": {
       "model_id": "5fa963547c70495daa4eef234550a11e",
       "version_major": 2,
       "version_minor": 0
      },
      "text/plain": [
       "Button(description='Run the experiment!', style=ButtonStyle())"
      ]
     },
     "metadata": {},
     "output_type": "display_data"
    },
    {
     "data": {
      "application/vnd.jupyter.widget-view+json": {
       "model_id": "9cb84139577e4375bf18645cf37eb501",
       "version_major": 2,
       "version_minor": 0
      },
      "text/plain": [
       "Output()"
      ]
     },
     "metadata": {},
     "output_type": "display_data"
    }
   ],
   "source": [
    "# @hidden_cell\n",
    "# @title\n",
    "# this will be hidden\n",
    "import matplotlib.pyplot as plt\n",
    "import numpy as np\n",
    "import scipy.stats as st\n",
    "from ipywidgets import widgets, Output\n",
    "from IPython.display import HTML, display\n",
    "\n",
    "button = widgets.Button(description = \"Run the experiment!\")\n",
    "display(button)\n",
    "out = Output()\n",
    "display(out)\n",
    "\n",
    "dist_values=[0]*9\n",
    "\n",
    "green_link = 'images/green.jpg'\n",
    "red_link = 'images/red.jpg'\n",
    "green_guy = \"<td><img src=\" + green_link + \"></td>\"\n",
    "red_guy = \"<td><img src=\" + red_link + \"></td>\"\n",
    "\n",
    "def on_button_clicked(b):\n",
    "    p = 0.5\n",
    "    test = st.bernoulli.rvs(p, size=8)\n",
    "    guys = \"\"\n",
    "    number_guys = 0\n",
    "    for item in test:\n",
    "      if item == 1:\n",
    "        guys = guys + green_guy\n",
    "      else:\n",
    "        guys = guys + red_guy\n",
    "      number_guys += item\n",
    "    \n",
    "    out.clear_output()\n",
    "    dist_values[number_guys] += 1\n",
    "    fig = plt.figure(figsize=(14, 5))\n",
    "    plt.style.use('seaborn-v0_8-darkgrid')\n",
    "    \n",
    "    x = np.arange(0, 9)\n",
    "    ns = [8]\n",
    "    ps = [p]\n",
    "    for n, p in zip(ns, ps):\n",
    "        plt.bar(x, dist_values)\n",
    "    plt.bar(x[number_guys], dist_values[number_guys], color='green')\n",
    "    plt.xlabel('number of sign ups', fontsize=14)\n",
    "    plt.ylabel('counts', fontsize=14)\n",
    "    plt.xticks(range(0, 9))\n",
    "    with out:\n",
    "        display(HTML(\"<table><tr>\" + guys + \"</tr></table>\"))\n",
    "        plt.show()\n",
    "#plt.yticks([]);\n",
    "#plt.legend(loc=1)\n",
    "\n",
    "\n",
    "button.on_click(on_button_clicked)"
   ]
  },
  {
   "cell_type": "markdown",
   "metadata": {
    "slideshow": {
     "slide_type": "slide"
    }
   },
   "source": [
    "### The Long Run Distribution\n",
    "\n",
    "* If one repeats the experiment many times, the graph will represent the binomial distribution\n",
    "\n",
    "  *  The distribution is parameterized by $n=8$ and $p=0.5$\n",
    "\n",
    "<img src=\"images/longrun.png\">"
   ]
  },
  {
   "cell_type": "markdown",
   "metadata": {
    "colab_type": "text",
    "id": "aqB7zpc358xw",
    "slideshow": {
     "slide_type": "skip"
    }
   },
   "source": [
    "### Observations\n",
    "\n",
    "* We don't know the signup rates $p_A$ and $p_B$ for Version **A** and **B** a priori \n",
    "* Clearly, we can use the maximum likelihood (ML) to estimate the parameters\n",
    "* However: \n",
    "  * The sample is small and random events can greatly skew estimation\n",
    "  * Confidence interval tells us where the interval may be with 95% confidence\n",
    "    * What we are often interested in is the probability of individual values\n",
    "\n",
    "  * There is no way to encode our belief about the parameter\n",
    "    * Say we know a parameter should be ~ 0.9 because other research showed that\n",
    "    * How can we incorporate that in esimating the parameter? \n",
    "\n",
    "* Our approach needs to take that into consideration"
   ]
  },
  {
   "cell_type": "markdown",
   "metadata": {
    "colab_type": "text",
    "id": "aqB7zpc358xw",
    "slideshow": {
     "slide_type": "slide"
    }
   },
   "source": [
    "### Observations\n",
    "\n",
    "* We don't know the signup rates $p_A$ and $p_B$ for Version **A** and **B** a priori \n",
    "* Clearly, we can use the maximum likelihood (ML) to estimate the parameters\n",
    "* However: \n",
    "  * The sample is small and random events can greatly skew estimation\n",
    "  * Confidence interval tells us where the values may be with 95% confidence\n",
    "    * What we are often interested in is the probability of individual values\n",
    "\n",
    "  * There is no way to encode our belief about the parameter\n",
    "    * Say we know a parameter should be ~ 0.9 because other research showed that\n",
    "    * How can we incorporate that in esimating the parameter? "
   ]
  },
  {
   "cell_type": "code",
   "execution_count": 5,
   "metadata": {
    "slideshow": {
     "slide_type": "slide"
    }
   },
   "outputs": [
    {
     "data": {
      "text/plain": [
       "[True, True, True, True, True, False, False, False]"
      ]
     },
     "execution_count": 5,
     "metadata": {},
     "output_type": "execute_result"
    }
   ],
   "source": [
    "# Suppose outcomes are \n",
    "outcomes = [True] * 5 + [False] * 3\n",
    "outcomes"
   ]
  },
  {
   "cell_type": "code",
   "execution_count": 6,
   "metadata": {
    "slideshow": {
     "slide_type": "-"
    }
   },
   "outputs": [
    {
     "data": {
      "text/plain": [
       "0.75"
      ]
     },
     "execution_count": 6,
     "metadata": {},
     "output_type": "execute_result"
    }
   ],
   "source": [
    "bootstrap = np.random.choice(outcomes, size=8, replace=True)\n",
    "bootstrap_proportion = sum(bootstrap)/len(bootstrap)\n",
    "bootstrap_proportion"
   ]
  },
  {
   "cell_type": "code",
   "execution_count": 7,
   "metadata": {
    "slideshow": {
     "slide_type": "-"
    }
   },
   "outputs": [
    {
     "data": {
      "text/plain": [
       "array([0.25 , 0.875])"
      ]
     },
     "execution_count": 7,
     "metadata": {},
     "output_type": "execute_result"
    }
   ],
   "source": [
    "bootstrap_proportions = []\n",
    "for _ in range(10_000):\n",
    "    bootstrap = np.random.choice(outcomes, size=8, replace=True)\n",
    "    bootstrap_proportion = sum(bootstrap)/len(bootstrap)\n",
    "    bootstrap_proportions.append(bootstrap_proportion)\n",
    "np.percentile(bootstrap_proportions, (2.5, 97.5))"
   ]
  },
  {
   "cell_type": "code",
   "execution_count": 8,
   "metadata": {
    "slideshow": {
     "slide_type": "slide"
    }
   },
   "outputs": [
    {
     "name": "stdout",
     "output_type": "stream",
     "text": [
      "[ True  True False  True False False False  True]\n"
     ]
    },
    {
     "data": {
      "text/plain": [
       "0.5"
      ]
     },
     "execution_count": 8,
     "metadata": {},
     "output_type": "execute_result"
    }
   ],
   "source": [
    "bootstrap = np.random.choice([True, False], size=8, replace=True)\n",
    "bootstrap_proportion = sum(bootstrap)/len(bootstrap)\n",
    "print(bootstrap)\n",
    "bootstrap_proportion"
   ]
  },
  {
   "cell_type": "code",
   "execution_count": 9,
   "metadata": {
    "slideshow": {
     "slide_type": "-"
    }
   },
   "outputs": [
    {
     "data": {
      "text/plain": [
       "array([0.125, 0.875])"
      ]
     },
     "execution_count": 9,
     "metadata": {},
     "output_type": "execute_result"
    }
   ],
   "source": [
    "bootstrap_proportions = []\n",
    "for _ in range(10000):\n",
    "    bootstrap = np.random.choice([True, False], size=8, replace=True)\n",
    "    bootstrap_proportion = sum(bootstrap)/len(bootstrap)\n",
    "    bootstrap_proportions.append(bootstrap_proportion)\n",
    "np.percentile(bootstrap_proportions, (2.5, 97.5))"
   ]
  },
  {
   "cell_type": "markdown",
   "metadata": {
    "slideshow": {
     "slide_type": "slide"
    }
   },
   "source": [
    "### Running the Simulation Backwards\n",
    "\n",
    "* Rather than generate random outcomes of the experiment, we record random parameters that could have yielded the observed results\n",
    "\n",
    "* Which parameters could have generated 5 signups in 8 trials?\n",
    "    * Recall that $p$ is continuous probability between 0 and 1\n"
   ]
  },
  {
   "cell_type": "markdown",
   "metadata": {
    "colab_type": "text",
    "id": "feFOS2XKOR3e",
    "slideshow": {
     "slide_type": "slide"
    }
   },
   "source": [
    "### Bayesian Inference Using Rejection Sampling \n",
    "\n",
    "\n",
    "* For simplicity, we will only consider Version A\n",
    "\n",
    "*  How can we determine the most likely value of parameter $p_A$ for Version A? \n",
    "\n",
    "* For that we will use a simple algorithm for Bayesian Inference called *rejection sampling*  \n",
    " * We simulate parameters and only retain those that agree with our data"
   ]
  },
  {
   "cell_type": "markdown",
   "metadata": {
    "slideshow": {
     "slide_type": "slide"
    }
   },
   "source": [
    "### Rejection Sampling \n",
    "\n",
    "1.  Sample a parameter value from the set of possible values of $p_A$\n",
    "  * This is called a prior and represents our prior belief on $p_A$\n",
    "  * In our example, we believe that $p_A$ is any possible value in $[0, 1]$ conitnuum\n",
    "   \n",
    "2.  Generate an outcome, given that parameter value (in our example, run the test that is described by Binomial distribution with parameter $p_A$ and number of people $8$)\n",
    "\n",
    "3.  * If the generated outcome is the observed data, record the value of the parameter $p_A$ as a possible value that can generate the observed results\n",
    "    * If the generated outcome is not the observed data, ignore (or reject) the value of the parameter $p_A$\n",
    "4.  Repeat the procedure many times"
   ]
  },
  {
   "cell_type": "markdown",
   "metadata": {
    "slideshow": {
     "slide_type": "slide"
    }
   },
   "source": [
    "### Approximate Bayes Using Rejection Sampling -- Cont'd\n",
    "\n",
    "<img src=\"images/rejection.jpg\" width=\"1200\">\n"
   ]
  },
  {
   "cell_type": "markdown",
   "metadata": {
    "slideshow": {
     "slide_type": "slide"
    }
   },
   "source": [
    "### Exploring the Distribution of the Parameter $p$\n",
    "\n",
    "* What does the distribution of $p_A$ look like?\n",
    "\n",
    "  * This ditribution represents the values that most likely generate the observed data\n",
    "  \n",
    "  * I.e., what  we believe, based on observing the data, the value of $p_A$ could have been\n",
    "  \n",
    "* Our prior belief was that  $p_A$ is any value between $0$ and $1$\n",
    "\n",
    "  * Results show that  some values of $p_A$ occur with more probability than other values\n",
    "  * We could have encoded our belief in a way that gives us some values more often than others\n",
    " \n",
    "* The resulting distribution is called the posterior distribution of the parameter $p_A$"
   ]
  },
  {
   "cell_type": "code",
   "execution_count": 10,
   "metadata": {
    "colab": {
     "base_uri": "https://localhost:8080/",
     "height": 366
    },
    "colab_type": "code",
    "id": "7m4d4ALBl_Ti",
    "outputId": "12ead134-432c-49a5-d130-c23de14579d4",
    "scrolled": true,
    "slideshow": {
     "slide_type": "slide"
    }
   },
   "outputs": [],
   "source": [
    "# import packages\n",
    "import numpy as np\n",
    "import matplotlib.pyplot as plt\n",
    "\n",
    "# Version A\n",
    "n_A = 8        # number of people Version A was tested on\n",
    "obs_A = 5      # observed number of signups for Version A\n",
    "p_A_recorded = []\n",
    "\n",
    "num_of_recorded_vals = 100_000\n",
    "\n",
    "for _ in range(num_of_recorded_vals):\n",
    "  # Sample a parameter value p_A\n",
    "  p_A = np.random.uniform(0, 1)\n",
    "\n",
    "  # For the p_A, generate an outcome from the Binomal distribution \n",
    "  v_A = np.random.binomial(n_A, p_A)\n",
    "    \n",
    "  # Compare generated outcomes to the observed data\n",
    "  if v_A == obs_A:\n",
    "    p_A_recorded.append(p_A)"
   ]
  },
  {
   "cell_type": "code",
   "execution_count": 11,
   "metadata": {
    "slideshow": {
     "slide_type": "slide"
    }
   },
   "outputs": [
    {
     "data": {
      "image/png": "[encoded data removed]",
      "text/plain": [
       "<Figure size 1000x600 with 1 Axes>"
      ]
     },
     "metadata": {},
     "output_type": "display_data"
    }
   ],
   "source": [
    "fig = plt.figure(figsize=(10, 6)) \n",
    "\n",
    "plt.hist(p_A_recorded, bins=20, alpha=0.75, color=\"#A60628\", edgecolor='black', linewidth=1.2)\n",
    "\n",
    "plt.xlim(0, 1)\n",
    "plt.xlabel(\"Signup rate ($p_A$)\")\n",
    "plt.title(\"Number of Recorded Values for Version A\")\n",
    "plt.style.use([\"seaborn-v0_8-darkgrid\"])"
   ]
  },
  {
   "cell_type": "markdown",
   "metadata": {
    "colab_type": "text",
    "id": "GGizV0W7l8oz",
    "slideshow": {
     "slide_type": "slide"
    }
   },
   "source": [
    "### Analyzing the Simulation Results\n",
    "\n",
    "* Histograms shows the probability of $p_A$ to be highest around 0.625\n",
    " * This agrees with the likelihood\n",
    " * This shows that the value could also be, with non-negligible probabilities, in other values\n",
    " \n",
    "* In this case, this does not add much to the likelihood\n",
    "\n",
    "* Imagine, however, that we have another dataset of signups for version A \n",
    "  * Out of 9 users tested, 6 signed up for version A"
   ]
  },
  {
   "cell_type": "markdown",
   "metadata": {
    "slideshow": {
     "slide_type": "slide"
    }
   },
   "source": [
    "### Updating Our Beliefs\n",
    "\n",
    "* We have already done some work with $p_A$ which led to generate a posterior of $p_A$\n",
    "* Rather than sample $p_A$ uniformly from $[0, 1]$, we can sample it from the posterior \n",
    "  * In this new round the posterior becomes a prior\n",
    "* We can sample from the histogram which represents the posterior"
   ]
  },
  {
   "cell_type": "code",
   "execution_count": 12,
   "metadata": {
    "slideshow": {
     "slide_type": "slide"
    }
   },
   "outputs": [
    {
     "data": {
      "text/plain": [
       "0.5247145618166079"
      ]
     },
     "execution_count": 12,
     "metadata": {},
     "output_type": "execute_result"
    }
   ],
   "source": [
    "np.random.choice(p_A_recorded)"
   ]
  },
  {
   "cell_type": "code",
   "execution_count": 13,
   "metadata": {
    "slideshow": {
     "slide_type": "-"
    }
   },
   "outputs": [],
   "source": [
    "# import packages\n",
    "import numpy as np\n",
    "import matplotlib.pyplot as plt\n",
    "\n",
    "# Version A\n",
    "n_A = 9        # number of people Version A was tested on\n",
    "obs_A = 6      # observed number of signups for Version A\n",
    "p_A_recorded_experiment_2 = []\n",
    "\n",
    "num_of_recorded_vals = 100_000\n",
    "\n",
    "for _ in range(num_of_recorded_vals):\n",
    "  # Sample a parameter value p_A from the posterior \n",
    "  p_A = np.random.choice(p_A_recorded)\n",
    "\n",
    "  # For the p_A, generate an outcome from the Binomal distribution \n",
    "  v_A = np.random.binomial(n_A, p_A)\n",
    "    \n",
    "  # Compare generated outcomes to the observed data\n",
    "  if v_A == obs_A:\n",
    "    p_A_recorded_experiment_2.append(p_A)"
   ]
  },
  {
   "cell_type": "code",
   "execution_count": 14,
   "metadata": {
    "slideshow": {
     "slide_type": "slide"
    }
   },
   "outputs": [
    {
     "data": {
      "image/png": "[encoded data removed]",
      "text/plain": [
       "<Figure size 1000x600 with 1 Axes>"
      ]
     },
     "metadata": {},
     "output_type": "display_data"
    }
   ],
   "source": [
    "fig = plt.figure(figsize=(10, 6)) \n",
    "\n",
    "plt.hist(p_A_recorded, bins=20, density=True, alpha=0.75, \n",
    "         label=\"Experiment 1\", color=\"#A60628\", edgecolor='black', linewidth=1.2,)\n",
    "plt.hist(p_A_recorded_experiment_2, bins=20, density=True, alpha=0.75, \n",
    "         label=\"Experiment 2\", color=\"#bcadd1\", edgecolor='black', linewidth=1.2)\n",
    "\n",
    "plt.xlim(0, 1)\n",
    "plt.xlabel(\"Signup rate ($p_A$)\")\n",
    "plt.title(\"Frequency of Recorded Values for Experiment 1 and 2\")\n",
    "plt.legend(loc='upper left', fontsize=14)\n",
    "plt.style.use([\"seaborn-v0_8-darkgrid\"])"
   ]
  },
  {
   "cell_type": "code",
   "execution_count": 15,
   "metadata": {
    "slideshow": {
     "slide_type": "slide"
    }
   },
   "outputs": [],
   "source": [
    "# import packages\n",
    "import numpy as np\n",
    "import matplotlib.pyplot as plt\n",
    "\n",
    "# Version A\n",
    "n_A = 8        # number of people Version A was tested on\n",
    "obs_A = 6      # observed number of signups for Version A\n",
    "p_A_recorded_experiment_3 = []\n",
    "\n",
    "num_of_recorded_vals = 100_000\n",
    "\n",
    "for _ in range(num_of_recorded_vals):\n",
    "  # Sample a parameter value p_A from the posterior \n",
    "  p_A = np.random.choice(p_A_recorded_experiment_2)\n",
    "\n",
    "  # For the p_A, generate an outcome from the Binomal distribution \n",
    "  v_A = np.random.binomial(n_A, p_A)\n",
    "    \n",
    "  # Compare generated outcomes to the observed data\n",
    "  if v_A == obs_A:\n",
    "    p_A_recorded_experiment_3.append(p_A)"
   ]
  },
  {
   "cell_type": "code",
   "execution_count": 16,
   "metadata": {
    "slideshow": {
     "slide_type": "slide"
    }
   },
   "outputs": [
    {
     "data": {
      "image/png": "[encoded data removed]",
      "text/plain": [
       "<Figure size 1000x600 with 1 Axes>"
      ]
     },
     "metadata": {},
     "output_type": "display_data"
    }
   ],
   "source": [
    "fig = plt.figure(figsize=(10, 6)) \n",
    "\n",
    "plt.hist(p_A_recorded, bins=20, density=True, alpha=0.75, label=\"Experiment 1\", color=\"#a60628\", edgecolor='black', linewidth=1.2,)\n",
    "plt.hist(p_A_recorded_experiment_2, bins=20, density=True, alpha=0.75, \n",
    "         label=\"Experiment 2\", color=\"#bcadd1\", edgecolor='black', linewidth=1.2)\n",
    "plt.hist(p_A_recorded_experiment_3, bins=20, density=True, alpha=0.4, \n",
    "         label=\"Experiment 3\", color=\"#1f5ae6\", edgecolor='black', linewidth=1.2)\n",
    "\n",
    "plt.xlim(0, 1)\n",
    "plt.xlabel(\"Signup rate ($p_A$)\")\n",
    "plt.title(\"Frequency of Recorded Values for Three Experiments\")\n",
    "plt.legend(loc='upper left', fontsize=14);\n",
    "plt.style.use([\"seaborn-v0_8-darkgrid\"])"
   ]
  },
  {
   "cell_type": "markdown",
   "metadata": {
    "colab_type": "text",
    "id": "a4kyzxM1Uhud",
    "slideshow": {
     "slide_type": "slide"
    }
   },
   "source": [
    "### **Bayesian Inference** for Parameter Estimation\n",
    "---\n",
    "\n",
    "* Bayesian inference allows us to use probability theory to assign probabilities to *parameters*\n",
    "\n",
    "  * Allows for encoding beliefs in a way that is probabilistic\n",
    "  \n",
    "  * Allows for incorporating new data in a way that leverages prior discoveries"
   ]
  }
 ],
 "metadata": {
  "celltoolbar": "Slideshow",
  "colab": {
   "collapsed_sections": [],
   "name": "PP_1_Introduction.ipynb",
   "provenance": [],
   "version": "0.3.2"
  },
  "hide_input": false,
  "kernelspec": {
   "display_name": "Python 3 (ipykernel)",
   "language": "python",
   "name": "python3"
  },
  "language_info": {
   "codemirror_mode": {
    "name": "ipython",
    "version": 3
   },
   "file_extension": ".py",
   "mimetype": "text/x-python",
   "name": "python",
   "nbconvert_exporter": "python",
   "pygments_lexer": "ipython3",
   "version": "3.8.15"
  }
 },
 "nbformat": 4,
 "nbformat_minor": 1
}
