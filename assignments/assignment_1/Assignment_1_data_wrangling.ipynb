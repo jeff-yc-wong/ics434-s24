{
 "cells": [
  {
   "cell_type": "markdown",
   "metadata": {},
   "source": [
    "### Brief Overview \n",
    "\n",
    "This assignment involves practicing data wrangling techniques that are frequently applied in real-world scenarios. The goal of this assignment is to produce a table that shows the cost of medication per Medicaid enrollee in each state. This table will enable analyses such as:\n",
    "  * Identifying the medications that constitute the majority of a state's Medicaid spending\n",
    "  * Comparing the frequency of specific medication prescriptions across states\n",
    "\n",
    "The datasets needed for this assignment are available at the following URLs:\n",
    "  * [medicaid_data.csv](https://www.dropbox.com/s/u6ctjqxnk0wxpbk/medicaid_data.csv?dl=1)\n",
    "  * [medicaid_enrollment.tsv](https://www.dropbox.com/s/969mohzhpu78r10/medicaid_enrollment.tsv?dl=1)\n",
    "  * [tax_data.csv](https://www.dropbox.com/s/zm37nu7vnirha4m/tax_data.csv?dl=1)\n"
   ]
  },
  {
   "cell_type": "markdown",
   "metadata": {},
   "source": [
    "### Instructions on answering the questions\n",
    "\n",
    "- Some questions require the use of only `DataFrame` or `Series` methods or properties. Solutions that do not use methods on `DataFrame` or `Series` are not acceptable, even if they provide the correct answer.\n",
    "\n",
    "- For example, to find the number of entries in `tax_data` using only its methods or properties, `len(tax_data)` is incorrect because `len()` is not a method of `tax_data`. The statement below is correct:\n",
    "\n",
    "\n",
    "  - `shape` property of `tax_data`:\n",
    "  \n",
    "    ```python\n",
    "    tax_data.shape\n",
    "    ```\n",
    "\n",
    "- To count unique entries in a column called `STATEFIPS` of a dataset called `tax_data`, the following illustrates an unacceptable and an acceptable approach:\n",
    "\n",
    "- Incorrect due to use of `set()` and `len()`, which are not methods of `tax_data`:\n",
    "\n",
    "    ```python\n",
    "    len(set(tax_data[\"STATEFIPS\"]))\n",
    "    ```\n",
    "\n",
    "- Incorrect, although using `unique()`, a `tax_data` method, it incorrectly applies `len()`, not a method of `tax_data`, to count unique entries:\n",
    "\n",
    "    ```python\n",
    "    len(tax_data[\"STATEFIPS\"].unique())\n",
    "    ```\n",
    "\n",
    "- Correct, as it uses `nunique()`, a method of the `Series` from `tax_data['STATEFIPS']`:\n",
    "\n",
    "    ```python\n",
    "    tax_data['STATEFIPS'].nunique()\n",
    "    ```\n",
    "\n",
    "- Chaining methods and properties is recommended unless it leads to confusion. For example, to check for a value in the index:\n",
    "\n",
    "    ```python\n",
    "    tax_data.index.contains(99999)\n",
    "    ```\n",
    "\n",
    "- Instead of:\n",
    "\n",
    "    ```python\n",
    "    99999 in tax_data.index\n",
    "    ```\n",
    "\n",
    "- Only `pandas` and `numpy` may be imported. \n",
    "\n",
    "- __Important__: Clearly state the exact commands used for each answer.\n",
    "\n",
    "- Multiple lines of code per cell are permitted unless stated otherwise.\n",
    "\n",
    "- Use`.SHIFT+TAB` to \"explore\" methods and properties available on `DataFrame` or `Series`. For detailed documentation on a method, press `.SHIFT+TAB` twice. This approach will not only help you find solutions to the questions but also improve your understanding of `pandas`.\n"
   ]
  },
  {
   "cell_type": "markdown",
   "metadata": {},
   "source": [
    "### 1. Loading and exploring the tax data"
   ]
  },
  {
   "cell_type": "markdown",
   "metadata": {},
   "source": [
    "Import the libraries `Pandas` and `numpy` using their standard aliases."
   ]
  },
  {
   "cell_type": "code",
   "execution_count": 1,
   "metadata": {},
   "outputs": [],
   "source": [
    "# WRITE YOUR CODE HERE\n"
   ]
  },
  {
   "cell_type": "markdown",
   "metadata": {},
   "source": [
    "- Import the IRS Statistics of Income (SOI) dataset from the provided CSV file (`tax_data.csv`) into a DataFrame named `tax_data`.\n",
    "\n",
    "- The dataset in `tax_data.csv` has been preprocessed from its original form available at this URL:\n",
    "  - [15zpallagi.csv](https://www.irs.gov/pub/irs-soi/15zpallagi.csv)\n"
   ]
  },
  {
   "cell_type": "code",
   "execution_count": 2,
   "metadata": {},
   "outputs": [],
   "source": [
    "## WRITE YOUR CODE HERE \n"
   ]
  },
  {
   "cell_type": "markdown",
   "metadata": {},
   "source": [
    "- Display the first eight rows of the DataFrame using the `tax_data` method or property.\n"
   ]
  },
  {
   "cell_type": "code",
   "execution_count": 6,
   "metadata": {},
   "outputs": [],
   "source": [
    "## WRITE YOUR CODE HERE \n"
   ]
  },
  {
   "cell_type": "markdown",
   "metadata": {},
   "source": [
    "- Rewrite the headers of `tax_data` to uppercase.\n",
    "  - Utilize only `DataFrame` or `Series` methods or properties for this task.\n",
    "  - Avoid manually specifying uppercase column names; instead, apply a method to convert them automatically.\n",
    "  - Leverage the `tax_data.columns` attribute, which provides a `Series` of the column names, in your solution.\n",
    "\n",
    "- Expected outcome for the column names:\n",
    " ```STATEFIPS, STATE, ZIPCODE, AGI_STUB, N1, MARS1, MARS2, MARS4, PREP, N2, ...```\n",
    "\n",
    "- Note: Converting column names to uppercase enhances consistency, eliminating the need to remember the case sensitivity of column headers.\n"
   ]
  },
  {
   "cell_type": "code",
   "execution_count": 7,
   "metadata": {},
   "outputs": [],
   "source": [
    "## WRITE YOUR CODE HERE \n"
   ]
  },
  {
   "cell_type": "markdown",
   "metadata": {},
   "source": [
    "Determine the total number of entries (instances or records) present in the `tax_data` dataset, utilizing only `DataFrame` or `Series` methods or properties.\n"
   ]
  },
  {
   "cell_type": "code",
   "execution_count": 8,
   "metadata": {},
   "outputs": [],
   "source": [
    "## WRITE YOUR CODE HERE \n"
   ]
  },
  {
   "cell_type": "markdown",
   "metadata": {},
   "source": [
    "Write a single Python expression using either `DataFrame` or `Series` methods or properties to print the title of the 32nd column in the `tax_data` DataFrame, assuming `STATEFIPS` is the label of the first column."
   ]
  },
  {
   "cell_type": "code",
   "execution_count": 1,
   "metadata": {},
   "outputs": [],
   "source": [
    "## WRITE YOUR CODE HERE \n"
   ]
  },
  {
   "cell_type": "markdown",
   "metadata": {},
   "source": [
    "Determine the column index for `N10300` in a `DataFrame` where `STATEFIPS` is the first column (index 0). You must use only `DataFrame` or `Series` methods or properties for your calculation.\n"
   ]
  },
  {
   "cell_type": "code",
   "execution_count": 9,
   "metadata": {},
   "outputs": [],
   "source": [
    "## WRITE YOUR CODE HERE \n"
   ]
  },
  {
   "cell_type": "markdown",
   "metadata": {},
   "source": [
    "- Calculate and display the number of unique zip codes per state, sorted in descending order of count. Utilize only `DataFrame` or `Series` methods or attributes for this task.\n",
    "\n",
    "- The expected output format is provided below, with '...' signifying additional data not displayed:\n",
    "\n",
    "```python\n",
    "        ZIPCODE\n",
    "STATE\t\n",
    "TX\t     9714\n",
    "NY\t     9238\n",
    "CA\t     8908\n",
    "PA\t     8208\n",
    "IL\t     7386\n",
    "...\n",
    "```\n",
    "\n",
    "* This output signifies the existence of 9,714 unique zip codes in TX, 9,238 in NY, and so forth.\n"
   ]
  },
  {
   "cell_type": "code",
   "execution_count": 2,
   "metadata": {},
   "outputs": [],
   "source": [
    "## WRITE YOUR CODE HERE \n"
   ]
  },
  {
   "cell_type": "markdown",
   "metadata": {},
   "source": [
    "Determine the index of 'HI' within the list that enumerates the number of zip codes for each state, as created in the preceding question. Restrict your methods or attributes to those available within `DataFrame` or `Series`.\n"
   ]
  },
  {
   "cell_type": "code",
   "execution_count": 10,
   "metadata": {},
   "outputs": [],
   "source": [
    "## WRITE YOUR CODE HERE \n"
   ]
  },
  {
   "cell_type": "markdown",
   "metadata": {},
   "source": [
    "### 2. Identifying and Removing Ambiguous Zip Codes\n",
    "\n",
    "Calculate the total number of records where the ZIPCODE value is 0. Store the result in a variable named nb_invalid_zip.\n"
   ]
  },
  {
   "cell_type": "code",
   "execution_count": 11,
   "metadata": {},
   "outputs": [],
   "source": [
    "## WRITE YOUR CODE HERE \n"
   ]
  },
  {
   "cell_type": "markdown",
   "metadata": {},
   "source": [
    "- Execute the line of code provided in the code cell below to verify that `nb_invalid_zip` is of type `int`.\n",
    "  - Keep in mind that `assert` will produce an error if `type(nb_invalid_zip)` does not return `int`.\n",
    "- Should the code cell below result in an error, adjust your previous response to ensure `nb_invalid_zip` is represented as a numerical value.\n"
   ]
  },
  {
   "cell_type": "code",
   "execution_count": 11,
   "metadata": {},
   "outputs": [],
   "source": [
    "assert(type(nb_invalid_zip) == int)"
   ]
  },
  {
   "cell_type": "markdown",
   "metadata": {},
   "source": [
    "Filter out all rows from the `DataFrame` `tax_data` where the zip code is equal to `0`. Store the filtered `DataFrame` in a new variable called `tax_data_valid_zip`. Use only `DataFrame` or `Series` methods or properties in your solution.\n"
   ]
  },
  {
   "cell_type": "code",
   "execution_count": 3,
   "metadata": {},
   "outputs": [],
   "source": [
    "## WRITE YOUR CODE HERE \n"
   ]
  },
  {
   "cell_type": "markdown",
   "metadata": {},
   "source": [
    "* Execute the following line to ensure the operation was successful.\n",
    "\n",
    "  * Verify that the sum of rows with \"zip code equal to 0\" and the number of rows in `tax_data_valid_zip` equals the total number of rows in the `tax_data` DataFrame.\n",
    "\n",
    "If the sum does not match the total rows in `tax_data`, the assertion will fail and display an error message. In such an event, review your previous code.\n"
   ]
  },
  {
   "cell_type": "code",
   "execution_count": 13,
   "metadata": {},
   "outputs": [],
   "source": [
    "assert((tax_data_valid_zip.shape[0] + nb_invalid_zip) == tax_data.shape[0])"
   ]
  },
  {
   "cell_type": "markdown",
   "metadata": {},
   "source": [
    "### Identifying and Removing Lines with Missing Values\n",
    "\n",
    "- Find the number of rows in the `tax_data_valid_zip` DataFrame that have at least one `NaN` value. Use only `DataFrame` methods and properties for this calculation.\n",
    "- Store the count of rows with any `NaN` values in a variable named `nb_missing_values`.\n"
   ]
  },
  {
   "cell_type": "code",
   "execution_count": 12,
   "metadata": {},
   "outputs": [],
   "source": [
    "## WRITE YOUR CODE HERE \n"
   ]
  },
  {
   "cell_type": "markdown",
   "metadata": {},
   "source": [
    "- Create a new `DataFrame` named `tax_data_valid_zip_cleaned` that includes all rows from `tax_data_valid_zip` while excluding any rows with missing values (`NaN`).\n"
   ]
  },
  {
   "cell_type": "code",
   "execution_count": 15,
   "metadata": {},
   "outputs": [],
   "source": [
    "## WRITE YOUR CODE HERE \n"
   ]
  },
  {
   "cell_type": "markdown",
   "metadata": {},
   "source": [
    "Execute the line below to verify the operation's success. Ensure that the sum of `nb_missing_values` and the number of lines in `tax_data_valid_zip_cleaned` equals the total number of lines in `tax_data_valid_zip`. Remember, an assertion error will occur if the expected results are not met.\n"
   ]
  },
  {
   "cell_type": "code",
   "execution_count": 16,
   "metadata": {},
   "outputs": [],
   "source": [
    "assert((tax_data_valid_zip_cleaned.shape[0] + nb_missing_values) == tax_data_valid_zip.shape[0])"
   ]
  },
  {
   "cell_type": "markdown",
   "metadata": {},
   "source": [
    "### Computing the Percentile Income per Zip Code\n",
    "\n",
    "- Understand the functionality of `compute_percentile_zipcode` which calculates the percentile income for each zip code.\n",
    "- Note that the default `percentile` value is 0.5, meaning the function, by default, computes the median income.\n",
    "- Carefully review the code to make sure you understand it before to proceeding with the subsequent question.\n"
   ]
  },
  {
   "cell_type": "code",
   "execution_count": 17,
   "metadata": {},
   "outputs": [],
   "source": [
    "def compute_percentile_zip(df_zip, percentile=0.5):     \n",
    "    index_median = sum(( df_zip[\"N1\"]/ sum(df_zip[\"N1\"])).cumsum() <= percentile)\n",
    "    val_below_or_at_median = (df_zip[\"A00100\"] /df_zip[\"N1\"]).iloc[index_median]\n",
    "    return val_below_or_at_median"
   ]
  },
  {
   "cell_type": "markdown",
   "metadata": {},
   "source": [
    "### Challenge: \n",
    "\n",
    "Calculate the 65th percentile of income for each zip code within the `tax_data_valid_zip_cleaned` DataFrame. Use only `DataFrame` or `Series` methods and properties for your calculation. \n",
    "\n",
    "Organize the calculated values in descending order and store them in a new DataFrame named `zip_rev_all`.\n",
    "\n",
    "Ensure the output Series format is as follows, with '...' indicating additional data not displayed:\n",
    "\n",
    "```python\n",
    "ZIPCODE\n",
    "33109    3954.114286\n",
    "33480    3413.301538\n",
    "...\n",
    "```"
   ]
  },
  {
   "cell_type": "code",
   "execution_count": 4,
   "metadata": {},
   "outputs": [],
   "source": [
    "## WRITE YOUR CODE HERE \n"
   ]
  },
  {
   "cell_type": "markdown",
   "metadata": {},
   "source": [
    "Identify the top three zip codes with the highest 65th percentile income value.\n"
   ]
  },
  {
   "cell_type": "code",
   "execution_count": 13,
   "metadata": {},
   "outputs": [],
   "source": [
    "## WRITE YOUR CODE HERE "
   ]
  },
  {
   "cell_type": "code",
   "execution_count": null,
   "metadata": {},
   "outputs": [],
   "source": []
  }
 ],
 "metadata": {
  "hide_input": false,
  "kernelspec": {
   "display_name": "Python 3 (ipykernel)",
   "language": "python",
   "name": "python3"
  },
  "language_info": {
   "codemirror_mode": {
    "name": "ipython",
    "version": 3
   },
   "file_extension": ".py",
   "mimetype": "text/x-python",
   "name": "python",
   "nbconvert_exporter": "python",
   "pygments_lexer": "ipython3",
   "version": "3.8.11"
  }
 },
 "nbformat": 4,
 "nbformat_minor": 4
}
