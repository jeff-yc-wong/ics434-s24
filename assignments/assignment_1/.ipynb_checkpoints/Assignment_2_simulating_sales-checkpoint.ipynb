{
 "cells": [
  {
   "cell_type": "code",
   "execution_count": 1,
   "metadata": {},
   "outputs": [],
   "source": [
    "from scipy import stats\n",
    "import numpy as np\n",
    "import matplotlib.pyplot as plt\n",
    "import scipy as sp\n",
    "import scipy.stats as stats\n",
    "import pandas as pd\n",
    "%matplotlib inline"
   ]
  },
  {
   "cell_type": "markdown",
   "metadata": {},
   "source": [
    "### Brief Overview \n",
    "\n",
    "This assignment is designed to help you practice with generative models and simulation techniques. You will receive various pieces of information that will guide you through solving a problem in a step-by-step manner. After completing the initial analysis, you will be asked to apply what you have learned to a different question.\n",
    "\n",
    "\n",
    "1. You're limited to using the following Python modules: `matplotlib`, `numpy`, `scipy`, and `pandas`. No other modules are accepted.\n",
    "\n",
    "2. When creating graphs, make sure each one has a title and labels for both axes. You can adjust the size of your plots by using `plt.figure(figsize=(width, height))`, where `width` and `height` are the dimensions of the plot you want.\n",
    "\n"
   ]
  },
  {
   "cell_type": "markdown",
   "metadata": {
    "collapsed": true
   },
   "source": [
    "Model Revenue for Membership-based Training Website in 2022\n",
    "\n",
    "- Overview: Calculate sales revenue for a website that charges a $39.99 monthly membership fee. Users can take any amount of time to complete their training and can leave the platform anytime.\n",
    "\n",
    "Key Points:\n",
    "- Women tend to complete training faster and quit less often than men.\n",
    "- The likelihood of a student quitting decreases the longer they are enrolled.\n",
    "- Membership has grown by an average of 13\\% yearly over the last five years, with a 1.4\\% standard deviation. In 2021, 90,316 people enrolled.\n",
    "\n",
    "* Data Source:\n",
    "- Access historical data from `memberships_info.csv` available at [URL](https://www.dropbox.com/s/evaaiu1mevw6t3j/memberships_info.csv?dl=1).\n",
    "\n",
    "Data Details:\n",
    "\n",
    "| Column       | Description                                   |\n",
    "|--------------|-----------------------------------------------|\n",
    "| member_id    | Unique member identifier                      |\n",
    "| gender       | Gender: M (male) or F (female)                |\n",
    "| status       | Membership status: C (completed) or Q (quit)  |\n",
    "| mem_duration | Membership length in months                   |\n",
    "\n",
    "Below, you will create a generative model to estimate next year's revenue by determining the model's parameters and hypothesizing their distributions for estimation.\n"
   ]
  },
  {
   "cell_type": "markdown",
   "metadata": {
    "collapsed": true
   },
   "source": [
    "### Reading the Data \n",
    "\n",
    "- Load the dataset using pandas and store it in a variable named `sample_users`.\n",
    "- Calculate the percentage of males who have completed the training in the dataset.\n"
   ]
  },
  {
   "cell_type": "code",
   "execution_count": 4,
   "metadata": {},
   "outputs": [
    {
     "data": {
      "text/html": [
       "<div>\n",
       "<style scoped>\n",
       "    .dataframe tbody tr th:only-of-type {\n",
       "        vertical-align: middle;\n",
       "    }\n",
       "\n",
       "    .dataframe tbody tr th {\n",
       "        vertical-align: top;\n",
       "    }\n",
       "\n",
       "    .dataframe thead th {\n",
       "        text-align: right;\n",
       "    }\n",
       "</style>\n",
       "<table border=\"1\" class=\"dataframe\">\n",
       "  <thead>\n",
       "    <tr style=\"text-align: right;\">\n",
       "      <th></th>\n",
       "      <th>member_id</th>\n",
       "      <th>gender</th>\n",
       "      <th>status</th>\n",
       "      <th>mem_duration</th>\n",
       "    </tr>\n",
       "  </thead>\n",
       "  <tbody>\n",
       "    <tr>\n",
       "      <th>0</th>\n",
       "      <td>7Q4IWMC7DE</td>\n",
       "      <td>F</td>\n",
       "      <td>C</td>\n",
       "      <td>10</td>\n",
       "    </tr>\n",
       "    <tr>\n",
       "      <th>1</th>\n",
       "      <td>IZO8chWgJZ</td>\n",
       "      <td>M</td>\n",
       "      <td>C</td>\n",
       "      <td>6</td>\n",
       "    </tr>\n",
       "    <tr>\n",
       "      <th>2</th>\n",
       "      <td>VKwFA5VINu</td>\n",
       "      <td>F</td>\n",
       "      <td>C</td>\n",
       "      <td>15</td>\n",
       "    </tr>\n",
       "    <tr>\n",
       "      <th>3</th>\n",
       "      <td>EfDYcr3Pn8</td>\n",
       "      <td>F</td>\n",
       "      <td>C</td>\n",
       "      <td>13</td>\n",
       "    </tr>\n",
       "    <tr>\n",
       "      <th>4</th>\n",
       "      <td>lW1u20Myap</td>\n",
       "      <td>M</td>\n",
       "      <td>C</td>\n",
       "      <td>10</td>\n",
       "    </tr>\n",
       "  </tbody>\n",
       "</table>\n",
       "</div>"
      ],
      "text/plain": [
       "    member_id gender status  mem_duration\n",
       "0  7Q4IWMC7DE      F      C            10\n",
       "1  IZO8chWgJZ      M      C             6\n",
       "2  VKwFA5VINu      F      C            15\n",
       "3  EfDYcr3Pn8      F      C            13\n",
       "4  lW1u20Myap      M      C            10"
      ]
     },
     "execution_count": 4,
     "metadata": {},
     "output_type": "execute_result"
    }
   ],
   "source": [
    "# Write your code here \n"
   ]
  },
  {
   "cell_type": "markdown",
   "metadata": {},
   "source": [
    "### Generative Model for our Simulations\n",
    "\n",
    "Below is an explanation of the model we will use to figure out yearly sales. The model works in 4 steps:\n",
    "\n",
    "1. Guess the number of new (future) members using a  $\\mu=13$ and $\\sigma =1.4$ i from last year, 2021.\n",
    "\n",
    "2. For each new member, decide if they will:\n",
    "\n",
    "  2.1 Leave the training: If so, sample the the number of months they stay before leaving.\n",
    "      \n",
    "  2.2 Finish the training: If so, sample the the number of months they stay until they finish.\n",
    "\n",
    "3. Compute the revenue from memberships based on the total number of months of enrollment simulated for each member.\n",
    "\n",
    "* Look at the picture below to understand this better.\n"
   ]
  },
  {
   "cell_type": "markdown",
   "metadata": {},
   "source": [
    "<img src=\"https://www.dropbox.com/s/xvvof9g36m7pthq/generative_model_diagram.png?dl=1\" alt=\"drawing\" style=\"width:700px;\"/>"
   ]
  },
  {
   "cell_type": "markdown",
   "metadata": {},
   "source": [
    "### Estimating the 95% Confidence Interval from Simulations\n",
    "\n",
    "- The goal is not to identify a single value but to determine the range where the revenue is likely to be found 95% of the time. To achieve this, repeat the simulation 5,000 times to calculate the 95% confidence interval for the revenue.\n"
   ]
  },
  {
   "cell_type": "markdown",
   "metadata": {},
   "source": [
    "###  1. Generating the Number of Enrollees\n",
    "\n",
    "- The training company anticipates a growth rate in enrollments for 2022 similar to previous years, with an expected mean growth rate of 13% (μ=13%) and a standard deviation of 1.4% (σ=1.4%).\n",
    "- Given the enrollment figure of 90,316 from the previous year, calculate the projected number of enrollments for 2022 using the normal distribution. This projection will serve as a single data point in the generative model.\n",
    "- Store the projected enrollment number in a variable named `nb_enrollees`. Make sure you convert this number to an integer, as the normal distribution will generate a continuous value.\n",
    "\n"
   ]
  },
  {
   "cell_type": "code",
   "execution_count": 4,
   "metadata": {},
   "outputs": [],
   "source": [
    "# Write your code here \n"
   ]
  },
  {
   "cell_type": "markdown",
   "metadata": {},
   "source": [
    "### Understanding Resampling for Confidence Interval Estimation\n",
    "\n",
    "- Calculate a 98% confidence interval for the proportion of participants who quit the training program before completion, using the `sample_users` dataset. To estimate a 98% confidence interval for the proportion of participants who quit the training program, we'll use a technique called resampling. This involves randomly selecting the same number of observations from our data as the original dataset, with replacement, and repeating this process 10,000 times. Each iteration calculates the quit proportion anew.\n",
    "\n",
    "  * To find the quit rate for one instance, divide the number of participants who quit (indicated by `status == \"Q\"`) by the total number of participants.\n",
    "\n",
    "- Resampling is beneficial because it allows us to model the variability and estimate the uncertainty of our statistic (in this case, the quit proportion) without needing a larger dataset or making assumptions about the data's distribution.\n",
    "\n",
    "- The result of these 10,000 resampling iterations will be used to construct the 98% confidence interval, providing a range of values within which the true quit proportion is likely to fall.\n"
   ]
  },
  {
   "cell_type": "code",
   "execution_count": null,
   "metadata": {},
   "outputs": [],
   "source": [
    "# Write your code here"
   ]
  },
  {
   "cell_type": "markdown",
   "metadata": {},
   "source": [
    "\n",
    "### 2. Generating a Radom Quitting Probability\n",
    "\n",
    "The quitting parameter falls within the 98% confidence interval approximately 98% of the time. To account for this variability in our simulation model, we will select a quitting probability from this interval at random and use it to calculate the estimated number of individuals quitting in each iteration.\n",
    "\n",
    "- Utilize `np.random.uniform(min, max)` to choose a random value within the specified interval.\n",
    "- For example, if the quitting probability confidence interval, `quit_prop_conf_int`, ranges from 0.2 to 0.3, a potential value could be:\n",
    "\n",
    "```python\n",
    "np.random.uniform(0.2, 0.3)\n",
    "# Result might be: 0.225\n",
    "# This can also be written as:\n",
    "# np.random.uniform(quit_prop_conf_int[0], quit_prop_conf_int[1])\n",
    "```\n",
    "\n",
    "Store the selected value in a variable named `quit_prop`.\n",
    "\n",
    "\n"
   ]
  },
  {
   "cell_type": "code",
   "execution_count": 1,
   "metadata": {},
   "outputs": [],
   "source": [
    "# Write your code here\n",
    "\n"
   ]
  },
  {
   "cell_type": "markdown",
   "metadata": {},
   "source": [
    "### 3. Simulating the Number for People Who Quit and Those Who Complete the Training\n",
    "\n",
    "\n",
    "- Calculate the number of participants who finish the training and those who quit using `nb_enrollees` and `quit_param`.\n",
    "- Store the number of finishers in `nb_enrollees_finish` and the number of quitters in `nb_enrollees_quit`.\n",
    "  - Ensure the output values are integers.\n",
    "  - Check that the sum of `nb_enrollees_finish` and `nb_enrollees_quit` equals `nb_enrollees`.\n"
   ]
  },
  {
   "cell_type": "code",
   "execution_count": 5,
   "metadata": {},
   "outputs": [],
   "source": [
    "# Write your code here \n",
    "\n"
   ]
  },
  {
   "cell_type": "markdown",
   "metadata": {},
   "source": [
    "### Determining the Number of Payments Enrollees Make Before Quitting\n",
    "\n",
    "- Below, we will model the duration of enrollment in months before a participant opts out.\n",
    "\n",
    "- Note that the likelihood of opting out decreases as participants approach the end of their training:\n",
    "  - The first month has the highest dropout rate compared to any other month.\n",
    "  - The dropout probability in month `t` is always greater than in month `t+1`.\n",
    "  - The more months a participant has remained enrolled, the lower their chance of dropping out.\n",
    "\n",
    "Illustrations `A`, `B`, and `C` depict examples of the probability distribution within the constraints mentioned, focusing on the range [1, 10].\n",
    "\n",
    "\n",
    "<img src=\"https://www.dropbox.com/s/ys12ubh0mvmyji5/decay.png?dl=1\" alt=\"drawing\" style=\"width:1400px;\"/>"
   ]
  },
  {
   "cell_type": "markdown",
   "metadata": {},
   "source": [
    "### Identifying the Most Likely Parameters\n",
    "\n",
    "\n",
    "- The three figures labeled `A`, `B`, and `C` depict exponential probability distributions. For more details on this distribution, visit: https://docs.scipy.org/doc/scipy/reference/generated/scipy.stats.expon.html\n",
    "\n",
    "- This distribution, similar to a Gaussian, is characterized by two key parameters:\n",
    "  - `loc`: Indicates the peak value of the function.\n",
    "  - `scale`: Defines the rate at which the function's probability declines towards zero. A higher `scale` value means a slower decrease in probability.\n",
    "\n",
    "- For the cases shown in figures `A`, `B`, and `C`, the `loc` parameter is consistently set to 1, reflecting the highest likelihood of individuals opting out within the first month.\n",
    "- These figures are differentiated by their `scale` values, with respective decays of `0.2`, `1`, and `200`.\n",
    "\n",
    "- Below are examples illustrating how to implement the exponential probability distribution (`expon`).\n",
    "\n"
   ]
  },
  {
   "cell_type": "code",
   "execution_count": 13,
   "metadata": {},
   "outputs": [
    {
     "data": {
      "text/plain": [
       "[<matplotlib.lines.Line2D at 0x195dd7f71f0>]"
      ]
     },
     "execution_count": 13,
     "metadata": {},
     "output_type": "execute_result"
    },
    {
     "data": {
      "image/png": "[encoded data removed]",
      "text/plain": [
       "<Figure size 1584x288 with 2 Axes>"
      ]
     },
     "metadata": {
      "needs_background": "light"
     },
     "output_type": "display_data"
    }
   ],
   "source": [
    "plt.figure(figsize=(22,4))\n",
    "x = np.linspace(0, 10, 1000)\n",
    "\n",
    "y_dist_1 = stats.expon(1, 1)\n",
    "y_dist_2 = stats.expon(1, 4)\n",
    "\n",
    "\n",
    "plt.subplot(1, 2, 1)\n",
    "plt.plot(x, y_dist_1.pdf(x), label=\"$a=0.2$\")\n",
    "\n",
    "\n",
    "plt.subplot(1, 2, 2)\n",
    "plt.plot(x, y_dist_2.pdf(x), label=\"$a=1$\")\n",
    "\n"
   ]
  },
  {
   "cell_type": "markdown",
   "metadata": {},
   "source": [
    "### Maximizing Log-Likelihood with the Scale Parameter\n",
    "\n",
    "- Determine the `scale` parameter value that results in the highest log-likelihood for our data, assuming `loc=1` to reflect the tendency of enrollees to quit within the first month.\n",
    "\n",
    "- First, calculate the log-likelihood of the dataset with a `scale` value of 5. Remember, the dataset consists of the duration of membership (`mem_duration`) in months for individuals who have quit (`status==\"Q\"`).\n",
    "\n",
    "- Calculate the log-likelihood for the data [2,1,2,3,4] using `location=1` and `scale=5` with the following code:\n",
    "\n",
    "```python\n",
    "log_pdfs = stats.expon(1, 5).logpdf([2,1,2,3,4])\n",
    "sum(log_pdfs)\n",
    "# Alternatively:\n",
    "# sum(stats.expon(1, 5).logpdf([2,1,2,3,4]))\n",
    "```\n",
    "\n",
    "Note: We create the distribution with `stats.expon(1, 5)` and then use it to compute `logpdf([2,1,2,3,4])`."
   ]
  },
  {
   "cell_type": "code",
   "execution_count": 6,
   "metadata": {},
   "outputs": [],
   "source": [
    "# Write your code here \n"
   ]
  },
  {
   "cell_type": "markdown",
   "metadata": {},
   "source": [
    "### Estimating Scale Using the Maximum Likelihood\n",
    "\n",
    "\n",
    "- Calculate and plot the log-likelihood for `scale` values ranging from 1 to 50, based on the given data.\n",
    "\n",
    "- Ensure your plot matches the following characteristics:\n",
    "  - The X-axis should display the possible `scale` values.\n",
    "  - The Y-axis should show the log-likelihood associated with your data.\n",
    "\n",
    "- Important points to note:\n",
    "  - The graph includes a marker at the point where the likelihood reaches its maximum.\n",
    "  - Ensure your graph displays the ticks on the x-axis, unlike the example provided.\n"
   ]
  },
  {
   "cell_type": "code",
   "execution_count": 7,
   "metadata": {},
   "outputs": [],
   "source": [
    "# Write your code here \n"
   ]
  },
  {
   "cell_type": "markdown",
   "metadata": {
    "collapsed": true
   },
   "source": [
    "### 4. Simulating Users Unenrolling from the Training\n",
    "\n",
    "1. Write a program to estimate the duration (in months) that users who eventually leave the platform might stay before they quit.\n",
    "\n",
    "2. Implement the simulation by drawing samples from an exponential distribution. Use the parameters `loc=1` and a `scale` parameter you've determined previously. For instance, with a scale of 4, your code could look like this:\n",
    "\n",
    "```python\n",
    "scale = 5\n",
    "nb_users = 1\n",
    "stats.expon(1, scale).rvs(nb_users)\n",
    "# Expected output: array([ 2.68001742])\n",
    "```\n",
    "\n",
    "3. The output value represents the simulated duration (in months) a user stayed before quitting. To simulate this for multiple users, adjust the `nb_users` parameter accordingly.\n",
    "\n",
    "4. Since billing is on a monthly basis, round the simulated durations using `np.ceil` to reflect complete months paid.\n",
    "\n",
    "5. For all users who have quit, simulate their subscription durations and store these in a variable named `months_paid_before_quitting` to represent the total months each user paid for before leaving.\n"
   ]
  },
  {
   "cell_type": "code",
   "execution_count": 8,
   "metadata": {},
   "outputs": [],
   "source": [
    "# Write your code here \n"
   ]
  },
  {
   "cell_type": "markdown",
   "metadata": {},
   "source": [
    "### Modeling the Membership Duration for Enrollees who Complete the Training\n",
    "\n",
    "1. Calculate the duration of enrollment for users who completed the training, using a method similar to one we've previously discussed. Note that gender differences are not a factor in this analysis.\n",
    "\n",
    "2. Create a Kernel Density Estimate (KDE) plot showing the distribution of enrollment durations for users who completed the training. Ensure your plot resembles the example provided below.\n",
    "\n",
    "Example Plot:\n",
    "![Example KDE Plot](https://www.dropbox.com/s/it164wz91kr44cz/kde.png?dl=1)\n"
   ]
  },
  {
   "cell_type": "code",
   "execution_count": 19,
   "metadata": {},
   "outputs": [],
   "source": [
    "# Write your code here \n",
    "\n"
   ]
  },
  {
   "cell_type": "markdown",
   "metadata": {},
   "source": [
    "### Visually identifying mean training completion time\n",
    "\n",
    "- Referring to the KDE plot, what is the average completion time for the training?\n",
    "\n"
   ]
  },
  {
   "cell_type": "code",
   "execution_count": 9,
   "metadata": {},
   "outputs": [],
   "source": [
    "### Write your answer here\n",
    "\n"
   ]
  },
  {
   "cell_type": "markdown",
   "metadata": {},
   "source": [
    "### Modeling the Membership Duration for Enrollees who Complete the Training - Cont'd \n",
    "\n",
    "\n",
    "- After conducting an online search for probability distributions, you discover that your Kernel Density Estimation (KDE) closely resembles a gamma distribution.\n",
    "\n",
    "  Reference: https://docs.scipy.org/doc/scipy/reference/generated/scipy.stats.gamma.html\n",
    "\n",
    "- The gamma distribution is defined by a shape parameter, denoted as \\(a\\). Consult the `stats.gamma` documentation within the `scipy` package for detailed information.\n",
    "\n",
    "- The following are examples of `stats.gamma` in use: the first example uses \\(a=2\\), and the second uses \\(a=8\\).\n",
    "\n",
    "  ![Examples of Gamma Distribution](https://www.dropbox.com/s/zv9yer46x2qno1x/two_gammas.png?dl=1)\n"
   ]
  },
  {
   "cell_type": "markdown",
   "metadata": {
    "collapsed": true
   },
   "source": [
    "### Computing the Maximum Likelihood Value of the Parameter $a$\n",
    "\n",
    "- Utilize Maximum Likelihood Estimation (MLE) to determine the value of the shape parameter $a$ that maximizes the log-likelihood of your data, focusing on `mem_duration` for users with `status == \"C\"`.\n",
    "\n",
    "  - Calculate and plot the log-likelihood values for $a$ ranging from 1 to 25, ensuring:\n",
    "    - The X-axis represents the shape parameter $a$.\n",
    "    - The Y-axis shows the log-likelihood values.\n",
    "\n",
    "  - Emphasize on the graph the point where the log-likelihood reaches its maximum. Ensure that the x-axis includes ticks for clarity.\n",
    "\n",
    "  - For computations, you may directly apply the `logpdf` method to the `gamma(a)` object.\n",
    "\n",
    "  ![Log-Likelihood Plot for Gamma Distribution](https://www.dropbox.com/s/dahd99mz258curq/ML_gamma.png?dl=1)\n",
    "\n",
    "\n"
   ]
  },
  {
   "cell_type": "code",
   "execution_count": 10,
   "metadata": {},
   "outputs": [],
   "source": [
    "# Write your code here\n",
    "\n"
   ]
  },
  {
   "cell_type": "markdown",
   "metadata": {},
   "source": [
    "### Computing the Maximum Likelihood Value of the Parameter $a$ - Cont'd\n",
    "\n",
    "\n",
    "* What is the value that maximizes the likelihood?\n",
    "* Does this value align with what you observed after inspecting rhe KDE graph above?\n",
    "\n"
   ]
  },
  {
   "cell_type": "code",
   "execution_count": 11,
   "metadata": {},
   "outputs": [],
   "source": [
    "# Write you code here \n"
   ]
  },
  {
   "cell_type": "markdown",
   "metadata": {},
   "source": [
    "### 5. Simulating Users Completing the Training\n",
    "\n",
    "\n",
    "- Simulate the number of months users remain enrolled before completing the training using the gamma distribution with the shape parameter $a$ identified from the Maximum Likelihood Estimation.\n",
    "\n",
    "  - For a given $a$, e.g., $a = 5$, you can simulate enrollment duration as follows:\n",
    "  \n",
    "    ```python \n",
    "    import numpy as np\n",
    "    from scipy.stats import gamma\n",
    "    a = 5  # Example shape parameter value\n",
    "    scale = 4\n",
    "    nb_users = 1  # Number of users to simulate\n",
    "    months_paid_before_completion = gamma(a, scale).rvs(nb_users)\n",
    "    print(np.ceil(months_paid_before_completion))\n",
    "    ```\n",
    "  \n",
    "  - Adjust `nb_users` to simulate the enrollment duration for multiple users. Round up the resulting months using `np.ceil`.\n",
    "\n",
    "- Perform the simulation for the total number of users in `nb_enrollees_finish` and store the rounded-up values in a variable named `months_paid_before_finishing`.\n"
   ]
  },
  {
   "cell_type": "code",
   "execution_count": 12,
   "metadata": {},
   "outputs": [],
   "source": [
    "# Write your code here \n",
    "\n"
   ]
  },
  {
   "cell_type": "markdown",
   "metadata": {},
   "source": [
    "### 6. Simulating Revenue for a Single Iteration\n",
    "\n",
    "- Calculate the total revenue generated from users who completed the training and those who quit by multiplying the total number of months enrolled by the monthly fee of $39.99.\n",
    "\n",
    "  - The total months of enrollment for users who completed the training are stored in `months_paid_before_finishing`.\n",
    "  \n",
    "  - The total months of enrollment for users who did not complete the training are stored in `months_paid_before_quitting`.\n",
    "\n"
   ]
  },
  {
   "cell_type": "code",
   "execution_count": 13,
   "metadata": {},
   "outputs": [],
   "source": [
    "# Write you code here\n"
   ]
  },
  {
   "cell_type": "markdown",
   "metadata": {},
   "source": [
    "### Build a 95% Confidence Interval for the Revenue\n",
    "\n",
    "- Run the simulation process 5000 times to establish a confidence interval. Perform the following steps repeatedly as outlined in the sections below:\n",
    "  \n",
    "  1. Create the number of participants.\n",
    "  2. Assign a random probability for dropping out.\n",
    "  3. Calculate the number of dropouts and completions.\n",
    "  4. Estimate the number of users unenrolling.\n",
    "  5. Estimate the number of users finishing the training.\n",
    "  6. Compute the revenue for each simulation cycle.\n",
    "\n",
    "- Expect the simulation to require several minutes to finish.\n"
   ]
  },
  {
   "cell_type": "code",
   "execution_count": 28,
   "metadata": {},
   "outputs": [],
   "source": [
    "# Write you code here\n"
   ]
  },
  {
   "cell_type": "markdown",
   "metadata": {},
   "source": [
    "## Challenge: \n",
    "\n",
    "### Rewrite the analysis considering gender differences. You will need two new parameters:\n",
    "\n",
    "1. Proportion of males to females among those who quit the training, named `male_female_prop_quit`.\n",
    "   - Use this to determine the gender of a participant who unenrolls.\n",
    "\n",
    "2. Proportion of males to females among those who complete the training, named `male_female_prop_finish`.\n",
    "   - Use this to identify the gender of a participant who completes the training.\n",
    "\n",
    "### Adjustments to distribution parameters for gender:\n",
    "\n",
    "- Instead of one parameter for the inverse decay rate in the exponential distribution, use separate parameters for males and females.\n",
    "\n",
    "- Replace the single gamma distribution shape parameter `a` with two parameters: one for males and another for females.\n",
    "\n",
    "\n"
   ]
  },
  {
   "cell_type": "code",
   "execution_count": null,
   "metadata": {},
   "outputs": [],
   "source": [
    "# Write you code here\n",
    "\n",
    "\n"
   ]
  },
  {
   "cell_type": "markdown",
   "metadata": {
    "collapsed": true
   },
   "source": [
    "### Conclusion\n",
    "\n",
    "\n",
    "* Which do you think is the most accurate model, the one that takes into account the gender differences of the one that does not? Justify your answler.\n",
    "\n",
    "\n"
   ]
  },
  {
   "cell_type": "markdown",
   "metadata": {},
   "source": [
    "###### Write you answer here"
   ]
  }
 ],
 "metadata": {
  "celltoolbar": "Slideshow",
  "colab": {
   "collapsed_sections": [],
   "name": "PP_1_Introduction.ipynb",
   "provenance": [],
   "version": "0.3.2"
  },
  "hide_input": false,
  "kernelspec": {
   "display_name": "Python 3 (ipykernel)",
   "language": "python",
   "name": "python3"
  },
  "language_info": {
   "codemirror_mode": {
    "name": "ipython",
    "version": 3
   },
   "file_extension": ".py",
   "mimetype": "text/x-python",
   "name": "python",
   "nbconvert_exporter": "python",
   "pygments_lexer": "ipython3",
   "version": "3.9.16"
  }
 },
 "nbformat": 4,
 "nbformat_minor": 1
}
