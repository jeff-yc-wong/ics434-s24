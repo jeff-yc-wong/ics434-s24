{
 "cells": [
  {
   "cell_type": "markdown",
   "id": "e7fca645",
   "metadata": {
    "slideshow": {
     "slide_type": "slide"
    }
   },
   "source": [
    "# ICS 434: DATA SCIENCE FUNDAMENTALS\n",
    "\n",
    "## Parameter Estimation: Bootstrap Confidence Interval\n",
    "---"
   ]
  },
  {
   "cell_type": "markdown",
   "id": "713391dd",
   "metadata": {
    "slideshow": {
     "slide_type": "slide"
    }
   },
   "source": [
    "## Announcements\n",
    "\n",
    "* Weekly engagement #5\n",
    "  * Complete the assignment for __Week 7__ under \"Weekly Engagement\" in Laulima\n",
    "  * Due on Sunday, __February 26, 11:55 PM__\n",
    "  * Submit the Jupyter notebook file (.ipynb) with your answers and outputs"
   ]
  },
  {
   "cell_type": "markdown",
   "id": "d808978a",
   "metadata": {
    "slideshow": {
     "slide_type": "slide"
    }
   },
   "source": [
    "## Slide Credits\n",
    "\n",
    "Most of these slides were taken from Mahdi Belcaid."
   ]
  },
  {
   "cell_type": "code",
   "execution_count": 2,
   "id": "9e75dc7e",
   "metadata": {
    "slideshow": {
     "slide_type": "skip"
    }
   },
   "outputs": [],
   "source": [
    "import numpy as np\n",
    "import pandas as pd\n",
    "import matplotlib.pyplot as plt"
   ]
  },
  {
   "cell_type": "markdown",
   "id": "9af80eaf",
   "metadata": {
    "slideshow": {
     "slide_type": "slide"
    }
   },
   "source": [
    "### Bootstrapping\n",
    "\n",
    "* Bootstrapping consists of sampling <ins>with replacement</ins> from observed dataset\n",
    "\n",
    "* _Basic idea_: inference about a population from a sample of the population can be modeled by resampling from the sample data and performing inference on the resampled sample\n",
    "\n",
    "* In bootstrap resamples, the 'population' is in fact the sample\n",
    "\n"
   ]
  },
  {
   "cell_type": "markdown",
   "id": "b612a599",
   "metadata": {
    "slideshow": {
     "slide_type": "slide"
    }
   },
   "source": [
    "### Using Bootstrap to Estimate the Population Mean\n",
    "\n",
    "* In the following example, we draw a sample of size 100 from Normal with $\\mu=50$ and $\\sigma=10$\n",
    "\n",
    "```python\n",
    "np.random.seed(22)\n",
    "data = np.random.normal(50, 10, 100)\n",
    "```\n",
    "\n",
    "* Are 100 records sufficient to obtain a good measure of the population mean using bootstrap?\n",
    "\n",
    "* What is the population's range of possible means that can be estimated from samples of this size?\n",
    "  "
   ]
  },
  {
   "cell_type": "code",
   "execution_count": 31,
   "id": "b3d107f5",
   "metadata": {
    "slideshow": {
     "slide_type": "slide"
    }
   },
   "outputs": [
    {
     "data": {
      "text/plain": [
       "100"
      ]
     },
     "execution_count": 31,
     "metadata": {},
     "output_type": "execute_result"
    }
   ],
   "source": [
    "# Given the following\n",
    "\n",
    "np.random.seed(22)\n",
    "\n",
    "data = np.random.normal(50, 10, 100)\n",
    "data.shape[0]"
   ]
  },
  {
   "cell_type": "code",
   "execution_count": 12,
   "id": "b5599290",
   "metadata": {
    "slideshow": {
     "slide_type": "skip"
    }
   },
   "outputs": [
    {
     "data": {
      "text/plain": [
       "array([1, 3])"
      ]
     },
     "execution_count": 12,
     "metadata": {},
     "output_type": "execute_result"
    }
   ],
   "source": [
    "# Selecting data from a sample\n",
    "# Draw to instance from the given array \n",
    "\n",
    "np.random.choice([1, 2, 3], 2)"
   ]
  },
  {
   "cell_type": "code",
   "execution_count": 33,
   "id": "dc20e9a7",
   "metadata": {
    "slideshow": {
     "slide_type": "-"
    }
   },
   "outputs": [],
   "source": [
    "np.random.seed(22)\n",
    "\n",
    "data = np.random.normal(50, 10, 100)\n",
    "\n",
    "bootstrap_means = []\n",
    "\n",
    "for i in range(10_000):\n",
    "    returns_data_100_bootstrap = np.random.choice(data, 100)\n",
    "    bootstrap_mean = returns_data_100_bootstrap.mean()\n",
    "    bootstrap_means.append(bootstrap_mean)"
   ]
  },
  {
   "cell_type": "code",
   "execution_count": 34,
   "id": "7a009c52",
   "metadata": {
    "slideshow": {
     "slide_type": "slide"
    }
   },
   "outputs": [
    {
     "data": {
      "image/png": "[encoded data removed]",
      "text/plain": [
       "<Figure size 700x300 with 1 Axes>"
      ]
     },
     "metadata": {},
     "output_type": "display_data"
    }
   ],
   "source": [
    "plt.figure(figsize=(7, 3))\n",
    "_ = plt.hist(bootstrap_means, density=True, edgecolor='black', linewidth=1.2, alpha=0.5)"
   ]
  },
  {
   "cell_type": "code",
   "execution_count": 6,
   "id": "f3f3506f",
   "metadata": {
    "slideshow": {
     "slide_type": "-"
    }
   },
   "outputs": [
    {
     "data": {
      "text/plain": [
       "array([47.49108953, 51.3568865 ])"
      ]
     },
     "execution_count": 6,
     "metadata": {},
     "output_type": "execute_result"
    }
   ],
   "source": [
    "np.percentile(bootstrap_means, (2.5, 97.5))"
   ]
  },
  {
   "cell_type": "markdown",
   "id": "ff3b87c0",
   "metadata": {
    "slideshow": {
     "slide_type": "slide"
    }
   },
   "source": [
    "### Interpreting the Bootstrap Values\n",
    "\n",
    "* The bootstrap data shows us the extent of sampling variability\n",
    "\n",
    "* The 95% confidence interval contains our mean\n",
    "  * Values within 95% confidence interval are not a fluke\n",
    "  * We cannot discredit the fact that any of those values are possible means of the population\n",
    "\n",
    "* Conclusion: even with only 100 samples, we can observe that population mean is included in the interval [47.49, 51.36]"
   ]
  },
  {
   "cell_type": "markdown",
   "id": "66810eaa",
   "metadata": {
    "slideshow": {
     "slide_type": "slide"
    }
   },
   "source": [
    "### How Confident Are We in the Bootstrap Confidence Interval?\n",
    "\n",
    "* The estimate 95% confidence interval captures the population parameter\n",
    "\n",
    "  * Was that a fluke?\n",
    "\n",
    "* To see how frequently the interval contains the parameter, we have to run the entire process over and over again\n",
    "\n",
    "* We will repeat the following process a number of times (say 100 times):\n",
    "\n",
    "  * Generate a data sample of size 100\n",
    "  * Generate 10,000 bootstrap samples from the data sample\n",
    "  * Generate the 95% confidence of the mean\n",
    "  \n",
    "* We will end up with 100 intervals, and count how many of them contain the population mean\n",
    "  * How many of these 95 confidence intervals will include our mean?\n"
   ]
  },
  {
   "cell_type": "code",
   "execution_count": 7,
   "id": "aa0b438f",
   "metadata": {
    "slideshow": {
     "slide_type": "slide"
    }
   },
   "outputs": [],
   "source": [
    "def comput_conf_interval(data, nb_bootstrap_iters = 10_000):\n",
    "    bootstrap_means = []\n",
    "    for i in range(nb_bootstrap_iters):\n",
    "        bootstrap_sample = np.random.choice(data, 100, replace=True)\n",
    "        bootstrap_means.append(bootstrap_sample.mean())\n",
    "    return np.percentile(bootstrap_means, (2.5, 97.5))\n",
    "    \n",
    "lower_bound = []\n",
    "upper_bound = []\n",
    "for i in range(100):\n",
    "    data = np.random.normal(50, 10, 100)\n",
    "    conf_interval = comput_conf_interval(data)\n",
    "    lower_bound.append(conf_interval[0])\n",
    "    upper_bound.append(conf_interval[1])"
   ]
  },
  {
   "cell_type": "code",
   "execution_count": 8,
   "id": "3d5e128e",
   "metadata": {
    "slideshow": {
     "slide_type": "slide"
    }
   },
   "outputs": [
    {
     "data": {
      "text/html": [
       "<div>\n",
       "<style scoped>\n",
       "    .dataframe tbody tr th:only-of-type {\n",
       "        vertical-align: middle;\n",
       "    }\n",
       "\n",
       "    .dataframe tbody tr th {\n",
       "        vertical-align: top;\n",
       "    }\n",
       "\n",
       "    .dataframe thead th {\n",
       "        text-align: right;\n",
       "    }\n",
       "</style>\n",
       "<table border=\"1\" class=\"dataframe\">\n",
       "  <thead>\n",
       "    <tr style=\"text-align: right;\">\n",
       "      <th></th>\n",
       "      <th>lower</th>\n",
       "      <th>upper</th>\n",
       "    </tr>\n",
       "  </thead>\n",
       "  <tbody>\n",
       "    <tr>\n",
       "      <th>0</th>\n",
       "      <td>48.857784</td>\n",
       "      <td>53.082003</td>\n",
       "    </tr>\n",
       "    <tr>\n",
       "      <th>1</th>\n",
       "      <td>48.448264</td>\n",
       "      <td>52.205987</td>\n",
       "    </tr>\n",
       "    <tr>\n",
       "      <th>2</th>\n",
       "      <td>49.248013</td>\n",
       "      <td>52.893485</td>\n",
       "    </tr>\n",
       "    <tr>\n",
       "      <th>3</th>\n",
       "      <td>49.127204</td>\n",
       "      <td>52.737125</td>\n",
       "    </tr>\n",
       "    <tr>\n",
       "      <th>4</th>\n",
       "      <td>47.576569</td>\n",
       "      <td>51.452966</td>\n",
       "    </tr>\n",
       "  </tbody>\n",
       "</table>\n",
       "</div>"
      ],
      "text/plain": [
       "       lower      upper\n",
       "0  48.857784  53.082003\n",
       "1  48.448264  52.205987\n",
       "2  49.248013  52.893485\n",
       "3  49.127204  52.737125\n",
       "4  47.576569  51.452966"
      ]
     },
     "execution_count": 8,
     "metadata": {},
     "output_type": "execute_result"
    }
   ],
   "source": [
    "conf_ints_95 = pd.DataFrame({\"lower\": lower_bound, \"upper\": upper_bound})\n",
    "conf_ints_95.head()"
   ]
  },
  {
   "cell_type": "code",
   "execution_count": 9,
   "id": "63627654",
   "metadata": {
    "slideshow": {
     "slide_type": "-"
    }
   },
   "outputs": [
    {
     "data": {
      "text/plain": [
       "(100, 2)"
      ]
     },
     "execution_count": 9,
     "metadata": {},
     "output_type": "execute_result"
    }
   ],
   "source": [
    "conf_ints_95.shape"
   ]
  },
  {
   "cell_type": "code",
   "execution_count": 10,
   "id": "fc556f89",
   "metadata": {
    "slideshow": {
     "slide_type": "-"
    }
   },
   "outputs": [
    {
     "data": {
      "text/plain": [
       "97"
      ]
     },
     "execution_count": 10,
     "metadata": {},
     "output_type": "execute_result"
    }
   ],
   "source": [
    "sum((conf_ints_95[\"lower\"] < 50) & (conf_ints_95[\"upper\"] > 50))"
   ]
  },
  {
   "cell_type": "code",
   "execution_count": 11,
   "id": "8e6d8260",
   "metadata": {
    "slideshow": {
     "slide_type": "slide"
    }
   },
   "outputs": [
    {
     "data": {
      "image/png": "[encoded data removed]",
      "text/plain": [
       "<Figure size 1000x600 with 1 Axes>"
      ]
     },
     "metadata": {},
     "output_type": "display_data"
    }
   ],
   "source": [
    "plt.figure(figsize=(10, 6))\n",
    "plt.vlines(50, 0, 102, color=\"#e2a829\", linewidth=4)\n",
    "\n",
    "for i in range(100):\n",
    "    c = \"blue\"\n",
    "    if lower_bound[i] > 50 or upper_bound[i] < 50:\n",
    "        c = \"red\"\n",
    "    plt.hlines(i, lower_bound[i], upper_bound[i], color=c, alpha=0.85, linewidth=0.75)"
   ]
  },
  {
   "cell_type": "markdown",
   "id": "3a8e58cc",
   "metadata": {
    "slideshow": {
     "slide_type": "slide"
    }
   },
   "source": [
    "### How Confident Are We in the Bootstrap Confidence Interval? -- Cont'd\n",
    "\n",
    "* If an interval doesn't cover the parameter, it's a failure \n",
    "  * There are very few of them in this case\n",
    "* Any method based on sampling has the possibility of being off\n",
    " * If we have a 95% confidence interval, we should expect to be wrong 5% of the time\n",
    "* The beauty of methods based on random sampling is that we can quantify how often they are likely to be off\n"
   ]
  },
  {
   "cell_type": "markdown",
   "id": "abfbca11",
   "metadata": {
    "slideshow": {
     "slide_type": "slide"
    }
   },
   "source": [
    "### The Bootstrap Confidence Interval\n",
    "\n",
    "* Our interval of estimates is called a *95% confidence interval* for the parameter\n",
    "\n",
    "* 95% is called the *confidence level* of the interval\n",
    "\n",
    "* We say that we are *95% confident* that the process results in a good interval"
   ]
  },
  {
   "cell_type": "markdown",
   "id": "8c79c3e3",
   "metadata": {
    "slideshow": {
     "slide_type": "slide"
    }
   },
   "source": [
    "### Why is the Bootstrap a Good Idea? \n",
    "\n",
    "* Similarity by transitivity\n",
    "  *  By the law of averages, the distribution of the original sample is likely to resemble the population. \n",
    "  * So, the distributions of all the \"resamples\" are likely to resemble the original sample.\n",
    "  * So the distributions of all the resamples are likely to resemble the population as well. \n",
    "* Treat the original sample as if it were the entire population.\n",
    "* Draw from the sample at random **with** replacement.\n",
    "  * The resample (bootstrap sample) should be of the same size as the original one.\n",
    "    * Avoids any discrepencies that may be due to size alone.\n"
   ]
  },
  {
   "cell_type": "markdown",
   "id": "1a20d068",
   "metadata": {
    "slideshow": {
     "slide_type": "slide"
    }
   },
   "source": [
    "<img src=\"images/bootstrap_pic.png\" alt=\"drawing\" style=\"width:950px\"/>"
   ]
  },
  {
   "cell_type": "markdown",
   "id": "7c680d52",
   "metadata": {
    "slideshow": {
     "slide_type": "skip"
    }
   },
   "source": [
    "### Care in Using the Bootstrap ###\n",
    "\n",
    "* The bootstrap is an elegant and powerful method to assess the accuracy of the estimate\n",
    "\n",
    " * The bootstrap uses a different approach to estimating the standard error\n",
    "\n",
    "\n",
    "* What you need to know before using it:\n",
    "\n",
    "  * Start with a large random sample\n",
    "\n",
    "  * The Law of Averages says that this is likely to be true provided the random sample is large\n",
    "\n",
    "\n",
    "* To approximate the probability distribution of a statistic, it is a good idea to replicate the resampling procedure as many times as possible\n",
    "\n",
    "  * 10,000, in general, is a good estimate\n",
    "\n",
    "* The bootstrap percentile method works well for estimating the population median or mean based on a large random sample"
   ]
  },
  {
   "cell_type": "markdown",
   "id": "cf7b79d8",
   "metadata": {
    "slideshow": {
     "slide_type": "slide"
    }
   },
   "source": [
    "### Care in Using the Bootstrap ###\n",
    "\n",
    "* The bootstrap is an elegant and powerful method to assess the accuracy of the estimate\n",
    "\n",
    "* What you need to know before using it:\n",
    "\n",
    "  * Start with a large random sample\n",
    "\n",
    "  * The Law of Averages says that this is likely to be true provided the random sample is large\n",
    "\n",
    "\n",
    "* To approximate the probability distribution of a statistic, it is a good idea to replicate the resampling procedure as many times as possible\n",
    "\n",
    "  * 10,000, in general, is a good estimate\n",
    "\n",
    "* The bootstrap percentile method works well for estimating the population median or mean based on a large random sample"
   ]
  },
  {
   "cell_type": "markdown",
   "id": "e8145c4c",
   "metadata": {
    "slideshow": {
     "slide_type": "skip"
    }
   },
   "source": [
    "### When To Not Use the Bootstrap\n",
    "\n",
    "* The bootstrap is not useful in the following situations:\n",
    "\n",
    "    * The goal is to estimate the minimum or maximum value in the population, or a very low or very high percentile, or parameters that are greatly influenced by rare elements of the population\n",
    "    * The probability distribution of the statistic is not roughly bell-shaped\n",
    "      * Can withstand some skewness in the data\n",
    "    * The original sample is very small, say less than 20 or 25\n",
    "      * Sample is not representative of the population\n",
    "      * Bootstrap samples are not representative of samples from the population"
   ]
  },
  {
   "cell_type": "markdown",
   "id": "97f4fc3a",
   "metadata": {
    "slideshow": {
     "slide_type": "slide"
    }
   },
   "source": [
    "### When To Not Use the Bootstrap\n",
    "\n",
    "* The bootstrap is not useful in the following situations:\n",
    "\n",
    "    * The goal is to estimate the minimum or maximum value in the population, or a very low or very high percentile, or parameters that are greatly influenced by rare elements of the population\n",
    "    * The probability distribution of the statistic is not roughly bell-shaped\n",
    "    * The original sample is very small, say less than 20 or 25\n",
    "      * Sample is not representative of the population\n",
    "      * Bootstrap samples are not representative of samples from the population"
   ]
  }
 ],
 "metadata": {
  "celltoolbar": "Slideshow",
  "kernelspec": {
   "display_name": "Python 3 (ipykernel)",
   "language": "python",
   "name": "python3"
  },
  "language_info": {
   "codemirror_mode": {
    "name": "ipython",
    "version": 3
   },
   "file_extension": ".py",
   "mimetype": "text/x-python",
   "name": "python",
   "nbconvert_exporter": "python",
   "pygments_lexer": "ipython3",
   "version": "3.9.18"
  }
 },
 "nbformat": 4,
 "nbformat_minor": 5
}
