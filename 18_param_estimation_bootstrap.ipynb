{
 "cells": [
  {
   "cell_type": "markdown",
   "id": "e7fca645",
   "metadata": {
    "slideshow": {
     "slide_type": "slide"
    }
   },
   "source": [
    "# ICS 434: DATA SCIENCE FUNDAMENTALS\n",
    "\n",
    "## Parameter Estimation: Bootstrap Confidence Interval\n",
    "---"
   ]
  },
  {
   "cell_type": "code",
   "execution_count": 2,
   "id": "9e75dc7e",
   "metadata": {
    "slideshow": {
     "slide_type": "skip"
    }
   },
   "outputs": [],
   "source": [
    "import numpy as np\n",
    "import pandas as pd\n",
    "import matplotlib.pyplot as plt"
   ]
  },
  {
   "cell_type": "markdown",
   "id": "9af80eaf",
   "metadata": {
    "slideshow": {
     "slide_type": "slide"
    }
   },
   "source": [
    "### Bootstrapping\n",
    "\n",
    "* Bootstrapping consists of sampling <ins>with replacement</ins> from observed dataset\n",
    "\n",
    "* _Basic idea_: inference about a population from a sample of the population can be modeled by resampling from the sample data and performing inference on the resampled sample\n",
    "\n",
    "* In bootstrap resamples, the 'population' is in fact the sample\n",
    "\n"
   ]
  },
  {
   "cell_type": "markdown",
   "id": "eeb825f9-f8e1-4cf6-abdb-1728257f8d1c",
   "metadata": {},
   "source": [
    "### How Bootstrapiing Used\n",
    "\n",
    "* The bootstrap data shows us the extent of sampling variability\n",
    "\n",
    "* it's used to, among other things, infer resampling distribution of a statistic (like the mean or median) by repeatedly sampling with replacement from the data set.\n"
   ]
  },
  {
   "cell_type": "markdown",
   "id": "b612a599",
   "metadata": {
    "slideshow": {
     "slide_type": "slide"
    }
   },
   "source": [
    "### Using Bootstrap to Estimate the Population Mean\n",
    "\n",
    "* In the following example, we draw a sample of size 100 from Normal with $\\mu=50$ and $\\sigma=10$\n",
    "\n",
    "```python\n",
    "np.random.seed(22)\n",
    "data = np.random.normal(50, 10, 100)\n",
    "```\n",
    "\n",
    "* Are 100 records sufficient to obtain a good measure of the population mean using bootstrap?\n",
    "\n",
    "* What is the population's range of possible means that can be estimated from samples of this size?\n",
    "  "
   ]
  },
  {
   "cell_type": "code",
   "execution_count": 33,
   "id": "2f41a31f-1075-41b1-94fd-3a1811c3dd82",
   "metadata": {},
   "outputs": [
    {
     "data": {
      "text/plain": [
       "44.15263117075237"
      ]
     },
     "execution_count": 33,
     "metadata": {},
     "output_type": "execute_result"
    }
   ],
   "source": [
    "data = np.random.normal(50, 1, 100)\n",
    "data.mean()\n"
   ]
  },
  {
   "cell_type": "code",
   "execution_count": 35,
   "id": "b3d107f5",
   "metadata": {
    "slideshow": {
     "slide_type": "slide"
    }
   },
   "outputs": [
    {
     "data": {
      "text/plain": [
       "100"
      ]
     },
     "execution_count": 35,
     "metadata": {},
     "output_type": "execute_result"
    }
   ],
   "source": [
    "# Given the following\n",
    "\n",
    "np.random.seed(22)\n",
    "\n",
    "data = np.random.normal(50, 10, 100)\n",
    "data.shape[0]"
   ]
  },
  {
   "cell_type": "code",
   "execution_count": 36,
   "id": "61dfb120",
   "metadata": {},
   "outputs": [
    {
     "data": {
      "text/plain": [
       "array([49.0805008 , 35.36649347, 60.81791679, 47.60674832, 45.08870864,\n",
       "       39.9772799 , 59.18821503, 38.96367899, 56.26493456, 44.38486219,\n",
       "       50.28855118, 47.69232812, 55.87752215, 57.52317579, 39.41497446,\n",
       "       60.55972414, 57.47750266, 60.64676588, 65.20129588, 35.11397064,\n",
       "       68.59989892, 34.01386973, 43.53926387, 53.37325002, 60.46728725,\n",
       "       56.2914334 , 53.63059095, 55.55749697, 39.11450468, 50.23694772,\n",
       "       74.99176641, 25.09969607, 47.65137613, 49.0243654 , 41.13470658,\n",
       "       48.63286762, 51.01978927, 47.49070464, 49.21187696, 39.14835834,\n",
       "       55.94928451, 43.61091928, 38.92163142, 71.06145756, 44.3261223 ,\n",
       "       45.20050207, 30.76770144, 53.99588542, 39.51816129, 43.06121297,\n",
       "       57.45339147, 55.36909995, 42.67278223, 55.5571563 , 54.32289301,\n",
       "       48.64196022, 40.58893908, 54.84767363, 34.67178547, 54.0497889 ,\n",
       "       50.12826125, 37.68284441, 39.46914977, 75.16221824, 29.60971496,\n",
       "       50.94487309, 46.85176665, 54.90314717, 53.54976188, 59.50711346,\n",
       "       57.60371799, 50.11503626, 36.23943042, 47.28445316, 55.42252051,\n",
       "       55.35522208, 61.5999804 , 48.34994951, 38.20597435, 44.54701049,\n",
       "       52.7050267 , 59.80237559, 60.06888399, 57.82156255, 37.51408341,\n",
       "       45.76166554, 55.52608154, 53.29603425, 58.6311829 , 37.72621974,\n",
       "       56.24874027, 22.30467045, 45.07822406, 50.69148198, 46.49997428,\n",
       "       58.69345174, 47.83235794, 50.17118495, 56.89713394, 41.16856848])"
      ]
     },
     "execution_count": 36,
     "metadata": {},
     "output_type": "execute_result"
    }
   ],
   "source": [
    "data"
   ]
  },
  {
   "cell_type": "code",
   "execution_count": 34,
   "id": "b5599290",
   "metadata": {
    "slideshow": {
     "slide_type": "skip"
    }
   },
   "outputs": [
    {
     "data": {
      "text/plain": [
       "array([2, 3, 3, 3, 2, 1, 2, 1, 2, 2])"
      ]
     },
     "execution_count": 34,
     "metadata": {},
     "output_type": "execute_result"
    }
   ],
   "source": [
    "# Selecting data from a sample\n",
    "# Draw to instance from the given array \n",
    "\n",
    "np.random.choice([1, 2, 3], 2)"
   ]
  },
  {
   "cell_type": "code",
   "execution_count": 43,
   "id": "2c28cac2",
   "metadata": {},
   "outputs": [
    {
     "data": {
      "text/plain": [
       "66"
      ]
     },
     "execution_count": 43,
     "metadata": {},
     "output_type": "execute_result"
    }
   ],
   "source": [
    "len(set(np.random.choice(data, 100)))"
   ]
  },
  {
   "cell_type": "code",
   "execution_count": 45,
   "id": "dc20e9a7",
   "metadata": {
    "slideshow": {
     "slide_type": "-"
    }
   },
   "outputs": [],
   "source": [
    "np.random.seed(22)\n",
    "\n",
    "data = np.random.normal(50, 10, 100)\n",
    "\n",
    "bootstrap_means = []\n",
    "\n",
    "for i in range(10_000):\n",
    "    returns_data_100_bootstrap = np.random.choice(data, 100)\n",
    "    bootstrap_mean = returns_data_100_bootstrap.mean()\n",
    "    bootstrap_means.append(bootstrap_mean)\n",
    "    \n",
    "    "
   ]
  },
  {
   "cell_type": "code",
   "execution_count": 47,
   "id": "df1e686a",
   "metadata": {},
   "outputs": [
    {
     "data": {
      "text/plain": [
       "[50.57385448510077,\n",
       " 49.53641037803769,\n",
       " 50.55427621601572,\n",
       " 47.29643327348919,\n",
       " 48.95876521752653,\n",
       " 49.92982451344803,\n",
       " 47.22595130710195,\n",
       " 49.98014167201929,\n",
       " 50.77783363049219,\n",
       " 49.03002220125765,\n",
       " 50.23380516658277,\n",
       " 50.98130616472651,\n",
       " 50.04615174675433,\n",
       " 49.791136470467265,\n",
       " 49.02299607565522,\n",
       " 49.92917466823551,\n",
       " 49.33774684843988,\n",
       " 47.90850118167857,\n",
       " 46.336865887675174,\n",
       " 48.47666260818641,\n",
       " 51.797774428855625,\n",
       " 50.04999110107246,\n",
       " 49.165593398521686,\n",
       " 49.373480437347354,\n",
       " 51.60266977893916,\n",
       " 49.685622042805065,\n",
       " 50.17800213807037,\n",
       " 49.74520178385228,\n",
       " 49.43938366278381,\n",
       " 48.60245096099747,\n",
       " 47.00424931864226,\n",
       " 48.965304283597504,\n",
       " 49.24518164949317,\n",
       " 48.831126461860585,\n",
       " 48.89110677512726,\n",
       " 50.27456958308707,\n",
       " 49.28090313955237,\n",
       " 48.1960706785353,\n",
       " 48.16468969687005,\n",
       " 49.609700807421575,\n",
       " 49.298333003814896,\n",
       " 48.203765275341695,\n",
       " 49.74117226410623,\n",
       " 48.19076428502297,\n",
       " 48.30426586607183,\n",
       " 49.45124637925022,\n",
       " 50.02185028748993,\n",
       " 48.08138771934734,\n",
       " 49.98450737056892,\n",
       " 49.65242244979583,\n",
       " 49.46141274566048,\n",
       " 50.413439449809765,\n",
       " 50.46435730194166,\n",
       " 50.59621703349999,\n",
       " 48.6233764053169,\n",
       " 48.14761807307961,\n",
       " 48.68920639037012,\n",
       " 50.96035717789134,\n",
       " 51.77274437262842,\n",
       " 48.19495538161627,\n",
       " 50.616085594393866,\n",
       " 48.34957846466103,\n",
       " 50.20749652484321,\n",
       " 52.14566933868125,\n",
       " 48.31496994524615,\n",
       " 47.34895188895086,\n",
       " 47.890653436614826,\n",
       " 48.05112906144972,\n",
       " 49.29133692506146,\n",
       " 49.82168463302459,\n",
       " 50.61523276089715,\n",
       " 48.03198942279701,\n",
       " 51.017195465879944,\n",
       " 50.71507689909376,\n",
       " 50.81752913039165,\n",
       " 51.13266072064503,\n",
       " 50.18177682765807,\n",
       " 50.25912256653999,\n",
       " 49.304580719793684,\n",
       " 48.69708449184736,\n",
       " 50.70573523750216,\n",
       " 49.068631515939884,\n",
       " 49.25092057071571,\n",
       " 48.41477100790344,\n",
       " 49.61887981910919,\n",
       " 49.88499738161353,\n",
       " 49.66021129862053,\n",
       " 50.11636264770122,\n",
       " 50.567278258380156,\n",
       " 49.35164007861623,\n",
       " 48.66028766672207,\n",
       " 49.81268962712771,\n",
       " 49.43566489004871,\n",
       " 49.21626053224014,\n",
       " 50.5867834662865,\n",
       " 50.63726137676866,\n",
       " 50.54511754084735,\n",
       " 48.191308386757456,\n",
       " 48.55650338473089,\n",
       " 48.20746419627855]"
      ]
     },
     "execution_count": 47,
     "metadata": {},
     "output_type": "execute_result"
    }
   ],
   "source": [
    "bootstrap_means[0:100]"
   ]
  },
  {
   "cell_type": "code",
   "execution_count": 34,
   "id": "7a009c52",
   "metadata": {
    "slideshow": {
     "slide_type": "slide"
    }
   },
   "outputs": [
    {
     "data": {
      "image/png": "[encoded data removed]",
      "text/plain": [
       "<Figure size 700x300 with 1 Axes>"
      ]
     },
     "metadata": {},
     "output_type": "display_data"
    }
   ],
   "source": [
    "plt.figure(figsize=(7, 3))\n",
    "_ = plt.hist(bootstrap_means, density=True, edgecolor='black', linewidth=1.2, alpha=0.5)"
   ]
  },
  {
   "cell_type": "code",
   "execution_count": 6,
   "id": "f3f3506f",
   "metadata": {
    "slideshow": {
     "slide_type": "-"
    }
   },
   "outputs": [
    {
     "data": {
      "text/plain": [
       "array([47.49108953, 51.3568865 ])"
      ]
     },
     "execution_count": 6,
     "metadata": {},
     "output_type": "execute_result"
    }
   ],
   "source": [
    "np.percentile(bootstrap_means, (2.5, 97.5))"
   ]
  },
  {
   "cell_type": "markdown",
   "id": "ff3b87c0",
   "metadata": {
    "slideshow": {
     "slide_type": "slide"
    }
   },
   "source": [
    "### Interpreting the Bootstrap Values\n",
    "\n",
    "* The bootstrap data shows us the extent of sampling variability\n",
    "\n",
    "* The 95% confidence interval contains our population mean\n",
    "  * Values within 95% confidence interval are not a fluke\n",
    "  * We cannot discredit the fact that any of those values are possible means of the population\n",
    "\n",
    "* Conclusion: even with only 100 samples, we can observe that population mean is included in the interval [47.49, 51.36]"
   ]
  },
  {
   "cell_type": "markdown",
   "id": "66810eaa",
   "metadata": {
    "slideshow": {
     "slide_type": "slide"
    }
   },
   "source": [
    "### How Confident Are We in the Bootstrap Confidence Interval?\n",
    "\n",
    "* The estimate 95% confidence interval captures the population parameter\n",
    "\n",
    "  * Was that a fluke?\n",
    "\n",
    "* To see how frequently the interval contains the parameter, we have to run the entire process over and over again\n",
    "\n",
    "* We will repeat the following process a number of times (say 100 times):\n",
    "\n",
    "  * Generate a data sample of size 100\n",
    "  * Generate 10,000 bootstrap samples from the data sample\n",
    "  * Generate the 95% confidence of the mean\n",
    "  \n",
    "* We will end up with 100 intervals, and count how many of them contain the population mean\n",
    "  * How many of these 95 confidence intervals will include our mean?\n"
   ]
  },
  {
   "cell_type": "code",
   "execution_count": 7,
   "id": "aa0b438f",
   "metadata": {
    "slideshow": {
     "slide_type": "slide"
    }
   },
   "outputs": [],
   "source": [
    "def comput_conf_interval(data, nb_bootstrap_iters = 10_000):\n",
    "    bootstrap_means = []\n",
    "    for i in range(nb_bootstrap_iters):\n",
    "        bootstrap_sample = np.random.choice(data, 100, replace=True)\n",
    "        bootstrap_means.append(bootstrap_sample.mean())\n",
    "    return np.percentile(bootstrap_means, (2.5, 97.5))\n",
    "    \n",
    "lower_bound = []\n",
    "upper_bound = []\n",
    "for i in range(100):\n",
    "    data = np.random.normal(50, 10, 100)\n",
    "    conf_interval = comput_conf_interval(data)\n",
    "    lower_bound.append(conf_interval[0])\n",
    "    upper_bound.append(conf_interval[1])"
   ]
  },
  {
   "cell_type": "code",
   "execution_count": 8,
   "id": "3d5e128e",
   "metadata": {
    "slideshow": {
     "slide_type": "slide"
    }
   },
   "outputs": [
    {
     "data": {
      "text/html": [
       "<div>\n",
       "<style scoped>\n",
       "    .dataframe tbody tr th:only-of-type {\n",
       "        vertical-align: middle;\n",
       "    }\n",
       "\n",
       "    .dataframe tbody tr th {\n",
       "        vertical-align: top;\n",
       "    }\n",
       "\n",
       "    .dataframe thead th {\n",
       "        text-align: right;\n",
       "    }\n",
       "</style>\n",
       "<table border=\"1\" class=\"dataframe\">\n",
       "  <thead>\n",
       "    <tr style=\"text-align: right;\">\n",
       "      <th></th>\n",
       "      <th>lower</th>\n",
       "      <th>upper</th>\n",
       "    </tr>\n",
       "  </thead>\n",
       "  <tbody>\n",
       "    <tr>\n",
       "      <th>0</th>\n",
       "      <td>48.857784</td>\n",
       "      <td>53.082003</td>\n",
       "    </tr>\n",
       "    <tr>\n",
       "      <th>1</th>\n",
       "      <td>48.448264</td>\n",
       "      <td>52.205987</td>\n",
       "    </tr>\n",
       "    <tr>\n",
       "      <th>2</th>\n",
       "      <td>49.248013</td>\n",
       "      <td>52.893485</td>\n",
       "    </tr>\n",
       "    <tr>\n",
       "      <th>3</th>\n",
       "      <td>49.127204</td>\n",
       "      <td>52.737125</td>\n",
       "    </tr>\n",
       "    <tr>\n",
       "      <th>4</th>\n",
       "      <td>47.576569</td>\n",
       "      <td>51.452966</td>\n",
       "    </tr>\n",
       "  </tbody>\n",
       "</table>\n",
       "</div>"
      ],
      "text/plain": [
       "       lower      upper\n",
       "0  48.857784  53.082003\n",
       "1  48.448264  52.205987\n",
       "2  49.248013  52.893485\n",
       "3  49.127204  52.737125\n",
       "4  47.576569  51.452966"
      ]
     },
     "execution_count": 8,
     "metadata": {},
     "output_type": "execute_result"
    }
   ],
   "source": [
    "conf_ints_95 = pd.DataFrame({\"lower\": lower_bound, \"upper\": upper_bound})\n",
    "conf_ints_95.head()"
   ]
  },
  {
   "cell_type": "code",
   "execution_count": 9,
   "id": "63627654",
   "metadata": {
    "slideshow": {
     "slide_type": "-"
    }
   },
   "outputs": [
    {
     "data": {
      "text/plain": [
       "(100, 2)"
      ]
     },
     "execution_count": 9,
     "metadata": {},
     "output_type": "execute_result"
    }
   ],
   "source": [
    "conf_ints_95.shape"
   ]
  },
  {
   "cell_type": "code",
   "execution_count": 10,
   "id": "fc556f89",
   "metadata": {
    "slideshow": {
     "slide_type": "-"
    }
   },
   "outputs": [
    {
     "data": {
      "text/plain": [
       "97"
      ]
     },
     "execution_count": 10,
     "metadata": {},
     "output_type": "execute_result"
    }
   ],
   "source": [
    "sum((conf_ints_95[\"lower\"] < 50) & (conf_ints_95[\"upper\"] > 50))"
   ]
  },
  {
   "cell_type": "code",
   "execution_count": 11,
   "id": "8e6d8260",
   "metadata": {
    "slideshow": {
     "slide_type": "slide"
    }
   },
   "outputs": [
    {
     "data": {
      "image/png": "[encoded data removed]",
      "text/plain": [
       "<Figure size 1000x600 with 1 Axes>"
      ]
     },
     "metadata": {},
     "output_type": "display_data"
    }
   ],
   "source": [
    "plt.figure(figsize=(10, 6))\n",
    "plt.vlines(50, 0, 102, color=\"#e2a829\", linewidth=4)\n",
    "\n",
    "for i in range(100):\n",
    "    c = \"blue\"\n",
    "    if lower_bound[i] > 50 or upper_bound[i] < 50:\n",
    "        c = \"red\"\n",
    "    plt.hlines(i, lower_bound[i], upper_bound[i], color=c, alpha=0.85, linewidth=0.75)"
   ]
  },
  {
   "cell_type": "markdown",
   "id": "3a8e58cc",
   "metadata": {
    "slideshow": {
     "slide_type": "slide"
    }
   },
   "source": [
    "### How Confident Are We in the Bootstrap Confidence Interval? -- Cont'd\n",
    "\n",
    "* If an interval doesn't cover the parameter, it's a failure \n",
    "  * There are very few of them in this case\n",
    "* Any method based on sampling has the possibility of being off\n",
    " * If we have a 95% confidence interval, we should expect to be wrong 5% of the time\n",
    "   * We are here about statistical expectation over a long run of experiments\n",
    "   *  if you were to construct confidence intervals an extremely large number of times under the same conditions, 95% of those intervals would contain the true parameter value, leaving 5% that do not.\n",
    "* The beauty of methods based on random sampling is that we can quantify how often they are likely to be off\n",
    "\n"
   ]
  },
  {
   "cell_type": "markdown",
   "id": "08b259be-1e45-4e09-89ae-32a04a60375f",
   "metadata": {},
   "source": [
    "### Misinterpretations and Misunderstandings or Confidence Intervals\n",
    "  * A 95% confidence interval does not mean there is a 95% chance that a given interval contains the true parameter value.\n",
    "     * The probability of a wrong interval containing the data is 0. \n",
    "  * It means that 95% of such intervals constructed from repeated sampling will contain the true parameter.\n",
    "  This distinction is subtle but fundamental to understanding statistical confidence.\n",
    "\n",
    "* Once a specific interval has been calculated from a specific sample, it either does contain the true parameter or it doesn't.\n",
    "*  the interval itself doesn't have a probability attached to it because it's fixed.\n"
   ]
  },
  {
   "cell_type": "markdown",
   "id": "abfbca11",
   "metadata": {
    "slideshow": {
     "slide_type": "slide"
    }
   },
   "source": [
    "### The Bootstrap Confidence Interval\n",
    "\n",
    "* Our interval of estimates is called a *95% confidence interval* for the parameter\n",
    "\n",
    "* 95% is called the *confidence level* of the interval\n",
    "\n",
    "* We say that we are *95% confident* that the process results in a good interval"
   ]
  },
  {
   "cell_type": "markdown",
   "id": "8c79c3e3",
   "metadata": {
    "slideshow": {
     "slide_type": "slide"
    }
   },
   "source": [
    "### Why is the Bootstrap a Good Idea? \n",
    "\n",
    "* Similarity by transitivity\n",
    "  *  By the law of averages, the distribution of the original sample is likely to resemble the population. \n",
    "  * So, the distributions of all the \"resamples\" are likely to resemble the original sample.\n",
    "  * So the distributions of all the resamples are likely to resemble the population as well. \n",
    "* Treat the original sample as if it were the entire population.\n",
    "* Draw from the sample at random **with** replacement.\n",
    "  * The resample (bootstrap sample) should be of the same size as the original one.\n",
    "    * Avoids any discrepencies that may be due to size alone.\n"
   ]
  },
  {
   "cell_type": "markdown",
   "id": "1a20d068",
   "metadata": {
    "slideshow": {
     "slide_type": "slide"
    }
   },
   "source": [
    "<img src=\"https://www.dropbox.com/scl/fi/xaxy7lnz2xyktcdwi3e0e/bootstrap_pic.png?rlkey=btyevb4egdfsv1dn12c29vt7q&dl=1\" alt=\"drawing\" style=\"width:950px\"/>"
   ]
  },
  {
   "cell_type": "markdown",
   "id": "7c680d52",
   "metadata": {
    "slideshow": {
     "slide_type": "skip"
    }
   },
   "source": [
    "### Care in Using the Bootstrap ###\n",
    "\n",
    "* The bootstrap is an elegant and powerful method to assess the accuracy of the estimate\n",
    "\n",
    " * The bootstrap uses a different approach to estimating the standard error\n",
    "\n",
    "\n",
    "* What you need to know before using it:\n",
    "\n",
    "  * Start with a large random sample\n",
    "\n",
    "  * The Law of Averages says that this is likely to be true provided the random sample is large\n",
    "\n",
    "\n",
    "* To approximate the probability distribution of a statistic, it is a good idea to replicate the resampling procedure as many times as possible\n",
    "\n",
    "  * 10,000, in general, is a good estimate\n",
    "\n",
    "* The bootstrap percentile method works well for estimating the population median or mean based on a large random sample"
   ]
  },
  {
   "cell_type": "markdown",
   "id": "e8145c4c",
   "metadata": {
    "slideshow": {
     "slide_type": "skip"
    }
   },
   "source": [
    "### When To Not Use the Bootstrap\n",
    "\n",
    "* The bootstrap is not useful in the following situations:\n",
    "\n",
    "    * The goal is to estimate the minimum or maximum value in the population, or a very low or very high percentile, or parameters that are greatly influenced by rare elements of the population\n",
    "    * The probability distribution of the statistic is not roughly bell-shaped\n",
    "      * Can withstand some skewness in the data\n",
    "    * The original sample is very small, say less than 20 or 25\n",
    "      * Sample is not representative of the population\n",
    "      * Bootstrap samples are not representative of samples from the population"
   ]
  }
 ],
 "metadata": {
  "celltoolbar": "Slideshow",
  "kernelspec": {
   "display_name": "Python 3 (ipykernel)",
   "language": "python",
   "name": "python3"
  },
  "language_info": {
   "codemirror_mode": {
    "name": "ipython",
    "version": 3
   },
   "file_extension": ".py",
   "mimetype": "text/x-python",
   "name": "python",
   "nbconvert_exporter": "python",
   "pygments_lexer": "ipython3",
   "version": "3.9.16"
  }
 },
 "nbformat": 4,
 "nbformat_minor": 5
}
