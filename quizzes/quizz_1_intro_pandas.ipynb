{
 "cells": [
  {
   "cell_type": "code",
   "execution_count": 2,
   "id": "4a990d78-3018-4cba-b890-44ff481d2a23",
   "metadata": {},
   "outputs": [],
   "source": [
    "import pandas as pd"
   ]
  },
  {
   "attachments": {},
   "cell_type": "markdown",
   "id": "0a145f0d-89a2-44a9-97d0-771a8a8b8776",
   "metadata": {},
   "source": [
    "#### 1. To load the dataset shown in the image below, which command is appropriate? The dataset is named `spending.csv` and is located in the current directory. Additionally, the column order in `spending.csv` matches the order presented in the image.\n",
    "\n",
    "\n",
    "![image.png](attachment:6d79e1bc-aefd-4a5e-906e-f451f214abb4.png)\n",
    "\n",
    "```python\n",
    "1- pd.read_csv(\"spending.csv\", index_col=\"unique_id\")\n",
    "2- pd.read_csv(\"spending.csv\", columns=\"unique_id\")\n",
    "3- pd.read_csv(\"spending.csv\")\n",
    "4- pd.read_csv(\"spending.csv\", ncols=3, usecols=[\"unique_id\", \"specialty\"])\n",
    "```\n",
    "Answer: 1\n"
   ]
  },
  {
   "cell_type": "code",
   "execution_count": null,
   "id": "c79d4eaa-1e3e-47ec-b564-5b854f88461d",
   "metadata": {},
   "outputs": [],
   "source": []
  },
  {
   "cell_type": "code",
   "execution_count": 4,
   "id": "e7142bc7-e34a-4bc6-ab45-98ac7f1931ee",
   "metadata": {},
   "outputs": [
    {
     "data": {
      "text/html": [
       "<div>\n",
       "<style scoped>\n",
       "    .dataframe tbody tr th:only-of-type {\n",
       "        vertical-align: middle;\n",
       "    }\n",
       "\n",
       "    .dataframe tbody tr th {\n",
       "        vertical-align: top;\n",
       "    }\n",
       "\n",
       "    .dataframe thead th {\n",
       "        text-align: right;\n",
       "    }\n",
       "</style>\n",
       "<table border=\"1\" class=\"dataframe\">\n",
       "  <thead>\n",
       "    <tr style=\"text-align: right;\">\n",
       "      <th></th>\n",
       "      <th>doctor_id</th>\n",
       "      <th>specialty</th>\n",
       "      <th>medication</th>\n",
       "      <th>nb_beneficiaries</th>\n",
       "      <th>spending</th>\n",
       "      <th>spending_float</th>\n",
       "    </tr>\n",
       "    <tr>\n",
       "      <th>unique_id</th>\n",
       "      <th></th>\n",
       "      <th></th>\n",
       "      <th></th>\n",
       "      <th></th>\n",
       "      <th></th>\n",
       "      <th></th>\n",
       "    </tr>\n",
       "  </thead>\n",
       "  <tbody>\n",
       "    <tr>\n",
       "      <th>BK982218</th>\n",
       "      <td>1750389599</td>\n",
       "      <td>INTERNAL MEDICINE</td>\n",
       "      <td>AZITHROMYCIN</td>\n",
       "      <td>12.0</td>\n",
       "      <td>$77.26</td>\n",
       "      <td>77.26</td>\n",
       "    </tr>\n",
       "    <tr>\n",
       "      <th>CG916968</th>\n",
       "      <td>1952344418</td>\n",
       "      <td>CARDIOLOGY</td>\n",
       "      <td>SIMVASTATIN</td>\n",
       "      <td>85.0</td>\n",
       "      <td>$767.83</td>\n",
       "      <td>767.83</td>\n",
       "    </tr>\n",
       "    <tr>\n",
       "      <th>SA964720</th>\n",
       "      <td>1669522744</td>\n",
       "      <td>INTERNAL MEDICINE</td>\n",
       "      <td>INSULIN DETEMIR</td>\n",
       "      <td>14.0</td>\n",
       "      <td>$5409.29</td>\n",
       "      <td>5409.29</td>\n",
       "    </tr>\n",
       "    <tr>\n",
       "      <th>TR390895</th>\n",
       "      <td>1639597115</td>\n",
       "      <td>NaN</td>\n",
       "      <td>LOSARTAN POTASSIUM</td>\n",
       "      <td>11.0</td>\n",
       "      <td>$65.62</td>\n",
       "      <td>65.62</td>\n",
       "    </tr>\n",
       "    <tr>\n",
       "      <th>JA436080</th>\n",
       "      <td>1073781571</td>\n",
       "      <td>NaN</td>\n",
       "      <td>LAMOTRIGINE</td>\n",
       "      <td>12.0</td>\n",
       "      <td>$8873.7</td>\n",
       "      <td>8873.70</td>\n",
       "    </tr>\n",
       "  </tbody>\n",
       "</table>\n",
       "</div>"
      ],
      "text/plain": [
       "            doctor_id          specialty          medication  \\\n",
       "unique_id                                                      \n",
       "BK982218   1750389599  INTERNAL MEDICINE        AZITHROMYCIN   \n",
       "CG916968   1952344418         CARDIOLOGY         SIMVASTATIN   \n",
       "SA964720   1669522744  INTERNAL MEDICINE     INSULIN DETEMIR   \n",
       "TR390895   1639597115                NaN  LOSARTAN POTASSIUM   \n",
       "JA436080   1073781571                NaN         LAMOTRIGINE   \n",
       "\n",
       "           nb_beneficiaries  spending  spending_float  \n",
       "unique_id                                              \n",
       "BK982218               12.0    $77.26           77.26  \n",
       "CG916968               85.0   $767.83          767.83  \n",
       "SA964720               14.0  $5409.29         5409.29  \n",
       "TR390895               11.0    $65.62           65.62  \n",
       "JA436080               12.0   $8873.7         8873.70  "
      ]
     },
     "execution_count": 4,
     "metadata": {},
     "output_type": "execute_result"
    }
   ],
   "source": [
    "spending_df = pd.read_csv(\"spending.csv\", index_col=\"unique_id\")\n",
    "spending_df.head()"
   ]
  },
  {
   "cell_type": "markdown",
   "id": "64ccd67b-baba-456b-8298-abf19600bed0",
   "metadata": {},
   "source": [
    "#### 2. Assuming the data was saved to `spending_df`, which of the following solutions **are** valid ways  select the column `nb_beneficiaries` from the dataframe above?\n",
    "   \n",
    "```python\n",
    "1- spending_df.iloc[:, 3]\n",
    "2- spending_df.loc[:, \"nb_beneficiaries\"]\n",
    "3- spending_df[\"nb_beneficiaries\"]\n",
    "4- all of the above\n",
    "```\n",
    "\n",
    "Answer: 4\n"
   ]
  },
  {
   "cell_type": "markdown",
   "id": "c6a0e23b-f94e-47a2-895c-eb116d97abcd",
   "metadata": {},
   "source": [
    "#### 3. Assuming the data was saved to spending_df, which of the following solutions is a valid way select rows 0, 3, 7 and 21 from the dataframe above?\n",
    "```python\n",
    "1- spending_df[[0, 3, 7, 21]]\n",
    "2- spending_df[[0, 3, 7, 21],:]\n",
    "3- spending_df.iloc[[0, 3, 7, 21]]\n",
    "4- spending_df.iloc[0, 3, 7, 21]\n",
    "```\n",
    "\n",
    "Answer: 3"
   ]
  },
  {
   "cell_type": "markdown",
   "id": "1275389d-f277-4e38-b04c-cd181ce12ddf",
   "metadata": {},
   "source": [
    "#### 4. Which method can be used to count the number of missing values (NaN) in each column as shown below?\n",
    "\n",
    "```\n",
    "doctor_id           0\n",
    "specialty           6\n",
    "medication          1\n",
    "nb_beneficiaries    4\n",
    "spending            4\n",
    "spending_float      4\n",
    "dtype: int64\n",
    "```\n",
    "\n",
    "\n",
    "```python\n",
    "1- spending_df.isna()\n",
    "2- spending_df.isna().sum(axis=0)\n",
    "3- spending_df.isna().sum(axis=1)\n",
    "4- spending_df.isna().shape\n",
    "```\n",
    "\n",
    "Answer: 2\n"
   ]
  },
  {
   "cell_type": "markdown",
   "id": "b3082088-38fb-4567-8c6d-eae0ffd3f919",
   "metadata": {
    "jp-MarkdownHeadingCollapsed": true
   },
   "source": [
    "#### 5. Assuming 'spending_df' is a DataFrame with columns including 'specialty' 'spending', and 'nb_beneficiaries', the following code snippet is intended to normalize the 'spending' by 'nb_beneficiaries' (i.e., calculate 'spending' / 'nb_beneficiaries') specifically for entries where the 'specialty' is \"INTERNAL MEDICINE\". Given that 'spending_df' has a shape of (54, 6) and there are 13 entries with the specialty \"INTERNAL MEDICINE\" what does the following snippet return?\n",
    "\n",
    "```python\n",
    "internal_med_filter = spending_df[\"specialty\"] == \"INTERNAL MEDICINE\"\n",
    "type(spending_df[\"spending_float\"][internal_med_filter] / spending_df[\"nb_beneficiaries\"])\n",
    "```\n",
    "\n",
    "```python\n",
    "1- Error!\n",
    "2- Series with a dimension of (54, 1)\n",
    "3- Series with a dimension of (13, )\n",
    "4- Series with a dimension of (1, 6)\n",
    "```\n",
    "\n",
    "Answer: Series with a dimension of (54,). (**Due to Pandas aligning values from (13,) to (54,) so result would be (54,)**)"
   ]
  },
  {
   "cell_type": "code",
   "execution_count": 13,
   "id": "8f106135",
   "metadata": {},
   "outputs": [
    {
     "data": {
      "text/plain": [
       "unique_id\n",
       "BK982218       77.26\n",
       "SA964720     5409.29\n",
       "PC409862      310.97\n",
       "XI271888    10253.35\n",
       "EQ932492      355.43\n",
       "IC286267      340.75\n",
       "PK692876      349.58\n",
       "SU660670      118.89\n",
       "SU398849      618.52\n",
       "ON964391     1730.84\n",
       "AD891213         NaN\n",
       "NH872050      525.54\n",
       "QK186918    79045.15\n",
       "Name: spending_float, dtype: float64"
      ]
     },
     "execution_count": 13,
     "metadata": {},
     "output_type": "execute_result"
    }
   ],
   "source": [
    "internal_med_filter = spending_df[\"specialty\"] == \"INTERNAL MEDICINE\"\n",
    "type(spending_df[\"spending_float\"][internal_med_filter] / spending_df[\"nb_beneficiaries\"])\n",
    "(spending_df[\"spending_float\"][internal_med_filter] / spending_df[\"nb_beneficiaries\"]).shape"
   ]
  },
  {
   "cell_type": "code",
   "execution_count": 37,
   "id": "99b5cb61-7500-4073-b83c-87af6edf5b76",
   "metadata": {},
   "outputs": [
    {
     "data": {
      "text/plain": [
       "(13,)"
      ]
     },
     "execution_count": 37,
     "metadata": {},
     "output_type": "execute_result"
    }
   ],
   "source": [
    "spending_df[\"spending_float\"] [internal_med_filter].shape"
   ]
  },
  {
   "cell_type": "code",
   "execution_count": 36,
   "id": "2d7626c1-1f6e-4971-ac95-c443ef75edcd",
   "metadata": {},
   "outputs": [
    {
     "data": {
      "text/plain": [
       "unique_id\n",
       "AD891213           NaN\n",
       "AL166376           NaN\n",
       "AU352153           NaN\n",
       "AX468217           NaN\n",
       "BK982218      6.438333\n",
       "BT820276           NaN\n",
       "BU202944           NaN\n",
       "CF887728           NaN\n",
       "CG865025           NaN\n",
       "CG916968           NaN\n",
       "CQ964168           NaN\n",
       "DA943932           NaN\n",
       "DJ966828           NaN\n",
       "DT789371           NaN\n",
       "EQ932492           NaN\n",
       "ES437458           NaN\n",
       "FE564384           NaN\n",
       "FV632964           NaN\n",
       "GD287242           NaN\n",
       "GF883895           NaN\n",
       "IC286267      6.429245\n",
       "JA436080           NaN\n",
       "JX313970           NaN\n",
       "MG439448           NaN\n",
       "MK361461           NaN\n",
       "NH872050     12.221860\n",
       "NM108377           NaN\n",
       "OB710833           NaN\n",
       "ON964391           NaN\n",
       "OR161686           NaN\n",
       "PC409862     25.914167\n",
       "PK692876     10.281765\n",
       "PM639115           NaN\n",
       "QK186918    403.291582\n",
       "RH274400           NaN\n",
       "SA964720    386.377857\n",
       "SU398849     41.234667\n",
       "SU660670      4.755600\n",
       "TR390895           NaN\n",
       "TU901486           NaN\n",
       "UB518915           NaN\n",
       "UM165381           NaN\n",
       "UP346469           NaN\n",
       "US339660           NaN\n",
       "VY752576           NaN\n",
       "VZ416961           NaN\n",
       "WO822855           NaN\n",
       "WO875842           NaN\n",
       "XI271888    277.117568\n",
       "XT297229           NaN\n",
       "YG219581           NaN\n",
       "YN526335           NaN\n",
       "YS123432           NaN\n",
       "ZP892365           NaN\n",
       "dtype: float64"
      ]
     },
     "execution_count": 36,
     "metadata": {},
     "output_type": "execute_result"
    }
   ],
   "source": [
    "internal_med_filter = spending_df[\"specialty\"] == \"INTERNAL MEDICINE\"\n",
    "spending_df[\"spending_float\"][internal_med_filter] / spending_df[\"nb_beneficiaries\"]"
   ]
  },
  {
   "cell_type": "code",
   "execution_count": 25,
   "id": "46b2601d-be75-4f26-a418-8dc42c3d7cb7",
   "metadata": {},
   "outputs": [
    {
     "data": {
      "text/plain": [
       "0    1\n",
       "1    2\n",
       "dtype: int64"
      ]
     },
     "execution_count": 25,
     "metadata": {},
     "output_type": "execute_result"
    }
   ],
   "source": [
    "test = pd.Series([1,2,3,4])\n",
    "test[[True, True, False, False]]"
   ]
  },
  {
   "cell_type": "code",
   "execution_count": 21,
   "id": "7d3c3840-b018-4078-bc2a-4511b140df10",
   "metadata": {},
   "outputs": [
    {
     "data": {
      "text/plain": [
       "unique_id\n",
       "BK982218       77.26\n",
       "CG916968      767.83\n",
       "SA964720     5409.29\n",
       "TR390895       65.62\n",
       "JA436080     8873.70\n",
       "WO822855         NaN\n",
       "PC409862      310.97\n",
       "CG865025     2726.72\n",
       "XI271888    10253.35\n",
       "EQ932492      355.43\n",
       "DT789371     2565.44\n",
       "IC286267      340.75\n",
       "PK692876      349.58\n",
       "AX468217     2791.18\n",
       "SU660670      118.89\n",
       "UP346469     2837.07\n",
       "DA943932    15272.18\n",
       "ZP892365      440.79\n",
       "TU901486     3078.49\n",
       "US339660     2239.34\n",
       "JX313970     8045.03\n",
       "SU398849      618.52\n",
       "BU202944     1456.08\n",
       "RH274400     1491.24\n",
       "ON964391     1730.84\n",
       "CQ964168     1219.38\n",
       "AL166376       89.30\n",
       "GD287242     5846.93\n",
       "BT820276      327.12\n",
       "AD891213         NaN\n",
       "VY752576     2052.04\n",
       "GF883895     2547.07\n",
       "MK361461     1608.42\n",
       "CF887728     8934.45\n",
       "FE564384    15640.59\n",
       "UB518915     3147.16\n",
       "UM165381      501.79\n",
       "YS123432      265.49\n",
       "DJ966828    10869.06\n",
       "VZ416961      218.56\n",
       "FV632964    76346.72\n",
       "AU352153      401.89\n",
       "PM639115      814.71\n",
       "OB710833       74.37\n",
       "NH872050      525.54\n",
       "MG439448     1910.22\n",
       "WO875842      180.08\n",
       "YN526335      615.66\n",
       "ES437458         NaN\n",
       "NM108377         NaN\n",
       "YG219581     4341.38\n",
       "QK186918    79045.15\n",
       "OR161686      361.43\n",
       "XT297229      248.95\n",
       "Name: spending_float, dtype: float64"
      ]
     },
     "execution_count": 21,
     "metadata": {},
     "output_type": "execute_result"
    }
   ],
   "source": [
    "spending_df[\"spending_float\"][internal_med_filter]"
   ]
  },
  {
   "cell_type": "markdown",
   "id": "63a47aba-87e4-4973-bc77-52c6366126e6",
   "metadata": {
    "jp-MarkdownHeadingCollapsed": true
   },
   "source": [
    "#### 6. Which of the following code snippets can be used to __**filter out**__ instances where `specialty` is \"INTERNAL MEDICINE\" and `nb_beneficiaries` is greater than or equal to 12?\n",
    "\n",
    "\n",
    "```python\n",
    "1- spending_df[not (spending_df[\"specialty\"] == \"INTERNAL MEDICINE\") and  (spending_df[\"nb_beneficiaries\"] >= 12)]\n",
    "1- spending_df[(spending_df[\"specialty\"] == \"INTERNAL MEDICINE\") and  (spending_df[\"nb_beneficiaries\"] >= 12)]\n",
    "3- spending_df[~((spending_df[\"specialty\"] == \"INTERNAL MEDICINE\") &  (spending_df[\"nb_beneficiaries\"] >= 12))]\n",
    "4- spending_df[(spending_df[\"specialty\"] != \"INTERNAL MEDICINE\") &  (spending_df[\"nb_beneficiaries\"] >= 12)]\n",
    "```\n",
    "\n",
    "Answer: 3 and 4\n"
   ]
  },
  {
   "cell_type": "markdown",
   "id": "51301795-17a5-4023-bb21-a3e2c21b00eb",
   "metadata": {},
   "source": [
    "#### 7. Which of the following snippets returns the number of rows where `nb_beneficiaries` is greater than 100?\n",
    "\n",
    "```python\n",
    "1- (spending_df['nb_beneficiaries'] > 100).sum()\n",
    "2- spending_df['nb_beneficiaries'] > 100\n",
    "3- spending_df[(spending_df['nb_beneficiaries'] > 100)].shape[0]\n",
    "4- (spending_df['nb_beneficiaries'] > 100).shape[0]\n",
    "```\n",
    "\n",
    "Answer: 1 and 3"
   ]
  },
  {
   "cell_type": "code",
   "execution_count": 46,
   "id": "fe9b8d91-7a03-4b14-b89b-1530da9563ce",
   "metadata": {},
   "outputs": [
    {
     "data": {
      "text/plain": [
       "54"
      ]
     },
     "execution_count": 46,
     "metadata": {},
     "output_type": "execute_result"
    }
   ],
   "source": [
    "(spending_df['nb_beneficiaries'] > 100).shape[0]"
   ]
  },
  {
   "cell_type": "code",
   "execution_count": 43,
   "id": "ffd808f6-ac6f-4032-b870-73e5a9bd3928",
   "metadata": {},
   "outputs": [
    {
     "data": {
      "text/plain": [
       "8"
      ]
     },
     "execution_count": 43,
     "metadata": {},
     "output_type": "execute_result"
    }
   ],
   "source": [
    "spending_df[(spending_df['nb_beneficiaries'] > 100)].shape[0]"
   ]
  },
  {
   "attachments": {},
   "cell_type": "markdown",
   "id": "cff440d3-61b1-4840-8396-ddc985c727a4",
   "metadata": {},
   "source": [
    "#### 8. Consider the the two following DataFrames:\n",
    "```python\n",
    "first_df  = pd.DataFrame({\"A\": [1, 2, 3, 4, 5]})\n",
    "second_df =  pd.DataFrame({\"A\": [1, 2, 3, 4, 5]}, index= [f\"row_{i}\" for i in range(5)])\n",
    "```\n",
    "\n",
    "![image.png](attachment:03926fcb-9bcb-45b1-a967-43f47ba87064.png)\n",
    "\n",
    "\n",
    "What does the following snippet return? \n",
    "\n",
    "```python\n",
    "(first_df[\"A\"] + second_df[\"A\"]).shape\n",
    "```\n",
    "\n",
    "```python\n",
    "1- (10,)\n",
    "2- (5,)\n",
    "3- (5,2)\n",
    "4- Error\n",
    "```\n",
    "\n",
    "Answer: 1"
   ]
  },
  {
   "cell_type": "code",
   "execution_count": 19,
   "id": "ebc88e1c",
   "metadata": {},
   "outputs": [
    {
     "data": {
      "text/plain": [
       "(10,)"
      ]
     },
     "execution_count": 19,
     "metadata": {},
     "output_type": "execute_result"
    }
   ],
   "source": [
    "first_df  = pd.DataFrame({\"A\": [1, 2, 3, 4, 5]})\n",
    "second_df =  pd.DataFrame({\"A\": [1, 2, 3, 4, 5]}, index= [f\"row_{i}\" for i in range(5)])\n",
    "\n",
    "(first_df[\"A\"] + second_df[\"A\"]).shape"
   ]
  },
  {
   "cell_type": "code",
   "execution_count": 47,
   "id": "829d82c6-c6db-446f-96a8-7d87543c9290",
   "metadata": {},
   "outputs": [],
   "source": [
    "first_df  = pd.DataFrame({\"A\": [1, 2, 3, 4, 5]})\n",
    "second_df =  pd.DataFrame({\"A\": [1, 2, 3, 4, 5]}, index= [f\"row_{i}\" for i in range(5)])"
   ]
  },
  {
   "cell_type": "code",
   "execution_count": 48,
   "id": "9719160a-513b-43a0-b963-255480e8de5a",
   "metadata": {},
   "outputs": [
    {
     "data": {
      "text/html": [
       "<div>\n",
       "<style scoped>\n",
       "    .dataframe tbody tr th:only-of-type {\n",
       "        vertical-align: middle;\n",
       "    }\n",
       "\n",
       "    .dataframe tbody tr th {\n",
       "        vertical-align: top;\n",
       "    }\n",
       "\n",
       "    .dataframe thead th {\n",
       "        text-align: right;\n",
       "    }\n",
       "</style>\n",
       "<table border=\"1\" class=\"dataframe\">\n",
       "  <thead>\n",
       "    <tr style=\"text-align: right;\">\n",
       "      <th></th>\n",
       "      <th>A</th>\n",
       "    </tr>\n",
       "  </thead>\n",
       "  <tbody>\n",
       "    <tr>\n",
       "      <th>0</th>\n",
       "      <td>1</td>\n",
       "    </tr>\n",
       "    <tr>\n",
       "      <th>1</th>\n",
       "      <td>2</td>\n",
       "    </tr>\n",
       "    <tr>\n",
       "      <th>2</th>\n",
       "      <td>3</td>\n",
       "    </tr>\n",
       "    <tr>\n",
       "      <th>3</th>\n",
       "      <td>4</td>\n",
       "    </tr>\n",
       "    <tr>\n",
       "      <th>4</th>\n",
       "      <td>5</td>\n",
       "    </tr>\n",
       "  </tbody>\n",
       "</table>\n",
       "</div>"
      ],
      "text/plain": [
       "   A\n",
       "0  1\n",
       "1  2\n",
       "2  3\n",
       "3  4\n",
       "4  5"
      ]
     },
     "execution_count": 48,
     "metadata": {},
     "output_type": "execute_result"
    }
   ],
   "source": [
    "first_df"
   ]
  },
  {
   "cell_type": "code",
   "execution_count": 49,
   "id": "1350d532-da85-426f-8a1f-98930732f405",
   "metadata": {},
   "outputs": [
    {
     "data": {
      "text/html": [
       "<div>\n",
       "<style scoped>\n",
       "    .dataframe tbody tr th:only-of-type {\n",
       "        vertical-align: middle;\n",
       "    }\n",
       "\n",
       "    .dataframe tbody tr th {\n",
       "        vertical-align: top;\n",
       "    }\n",
       "\n",
       "    .dataframe thead th {\n",
       "        text-align: right;\n",
       "    }\n",
       "</style>\n",
       "<table border=\"1\" class=\"dataframe\">\n",
       "  <thead>\n",
       "    <tr style=\"text-align: right;\">\n",
       "      <th></th>\n",
       "      <th>A</th>\n",
       "    </tr>\n",
       "  </thead>\n",
       "  <tbody>\n",
       "    <tr>\n",
       "      <th>row_0</th>\n",
       "      <td>1</td>\n",
       "    </tr>\n",
       "    <tr>\n",
       "      <th>row_1</th>\n",
       "      <td>2</td>\n",
       "    </tr>\n",
       "    <tr>\n",
       "      <th>row_2</th>\n",
       "      <td>3</td>\n",
       "    </tr>\n",
       "    <tr>\n",
       "      <th>row_3</th>\n",
       "      <td>4</td>\n",
       "    </tr>\n",
       "    <tr>\n",
       "      <th>row_4</th>\n",
       "      <td>5</td>\n",
       "    </tr>\n",
       "  </tbody>\n",
       "</table>\n",
       "</div>"
      ],
      "text/plain": [
       "       A\n",
       "row_0  1\n",
       "row_1  2\n",
       "row_2  3\n",
       "row_3  4\n",
       "row_4  5"
      ]
     },
     "execution_count": 49,
     "metadata": {},
     "output_type": "execute_result"
    }
   ],
   "source": [
    "second_df"
   ]
  },
  {
   "cell_type": "code",
   "execution_count": 50,
   "id": "f7e112a2-0f19-4edc-a323-abdd54011168",
   "metadata": {},
   "outputs": [
    {
     "data": {
      "text/html": [
       "<div>\n",
       "<style scoped>\n",
       "    .dataframe tbody tr th:only-of-type {\n",
       "        vertical-align: middle;\n",
       "    }\n",
       "\n",
       "    .dataframe tbody tr th {\n",
       "        vertical-align: top;\n",
       "    }\n",
       "\n",
       "    .dataframe thead th {\n",
       "        text-align: right;\n",
       "    }\n",
       "</style>\n",
       "<table border=\"1\" class=\"dataframe\">\n",
       "  <thead>\n",
       "    <tr style=\"text-align: right;\">\n",
       "      <th></th>\n",
       "      <th>A</th>\n",
       "    </tr>\n",
       "  </thead>\n",
       "  <tbody>\n",
       "    <tr>\n",
       "      <th>0</th>\n",
       "      <td>NaN</td>\n",
       "    </tr>\n",
       "    <tr>\n",
       "      <th>1</th>\n",
       "      <td>NaN</td>\n",
       "    </tr>\n",
       "    <tr>\n",
       "      <th>2</th>\n",
       "      <td>NaN</td>\n",
       "    </tr>\n",
       "    <tr>\n",
       "      <th>3</th>\n",
       "      <td>NaN</td>\n",
       "    </tr>\n",
       "    <tr>\n",
       "      <th>4</th>\n",
       "      <td>NaN</td>\n",
       "    </tr>\n",
       "    <tr>\n",
       "      <th>row_0</th>\n",
       "      <td>NaN</td>\n",
       "    </tr>\n",
       "    <tr>\n",
       "      <th>row_1</th>\n",
       "      <td>NaN</td>\n",
       "    </tr>\n",
       "    <tr>\n",
       "      <th>row_2</th>\n",
       "      <td>NaN</td>\n",
       "    </tr>\n",
       "    <tr>\n",
       "      <th>row_3</th>\n",
       "      <td>NaN</td>\n",
       "    </tr>\n",
       "    <tr>\n",
       "      <th>row_4</th>\n",
       "      <td>NaN</td>\n",
       "    </tr>\n",
       "  </tbody>\n",
       "</table>\n",
       "</div>"
      ],
      "text/plain": [
       "        A\n",
       "0     NaN\n",
       "1     NaN\n",
       "2     NaN\n",
       "3     NaN\n",
       "4     NaN\n",
       "row_0 NaN\n",
       "row_1 NaN\n",
       "row_2 NaN\n",
       "row_3 NaN\n",
       "row_4 NaN"
      ]
     },
     "execution_count": 50,
     "metadata": {},
     "output_type": "execute_result"
    }
   ],
   "source": [
    "first_df + second_df"
   ]
  },
  {
   "cell_type": "code",
   "execution_count": null,
   "id": "c9c65328-53bd-4194-8719-00a01ff396ac",
   "metadata": {},
   "outputs": [],
   "source": []
  }
 ],
 "metadata": {
  "kernelspec": {
   "display_name": "Python 3 (ipykernel)",
   "language": "python",
   "name": "python3"
  },
  "language_info": {
   "codemirror_mode": {
    "name": "ipython",
    "version": 3
   },
   "file_extension": ".py",
   "mimetype": "text/x-python",
   "name": "python",
   "nbconvert_exporter": "python",
   "pygments_lexer": "ipython3",
   "version": "3.9.13"
  }
 },
 "nbformat": 4,
 "nbformat_minor": 5
}
